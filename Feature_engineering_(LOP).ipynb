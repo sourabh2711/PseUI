{
  "cells": [
    {
      "cell_type": "code",
      "execution_count": null,
      "metadata": {
        "id": "zjJ-BAatBAkY"
      },
      "outputs": [],
      "source": [
        "import pandas as pd"
      ]
    },
    {
      "cell_type": "code",
      "execution_count": null,
      "metadata": {
        "colab": {
          "base_uri": "https://localhost:8080/"
        },
        "id": "UGbrne73EUUW",
        "outputId": "f283e254-f679-4cb4-8b7f-09dcdbadeac4"
      },
      "outputs": [
        {
          "output_type": "stream",
          "name": "stdout",
          "text": [
            "Mounted at /content/drive\n"
          ]
        }
      ],
      "source": [
        "from google.colab import drive\n",
        "drive.mount('/content/drive')"
      ]
    },
    {
      "cell_type": "code",
      "execution_count": null,
      "metadata": {
        "id": "0Wjm40YaFSIP"
      },
      "outputs": [],
      "source": [
        "df = pd.read_csv('/content/drive/MyDrive/Feature_engineering.csv')"
      ]
    },
    {
      "cell_type": "code",
      "execution_count": null,
      "metadata": {
        "id": "2559gW4MjqVz"
      },
      "outputs": [],
      "source": [
        "x = pd.read_csv('/content/drive/MyDrive/X.csv')"
      ]
    },
    {
      "cell_type": "code",
      "execution_count": null,
      "metadata": {
        "id": "sfpL79auKcpl"
      },
      "outputs": [],
      "source": [
        "def nucleotide_composition(string):\n",
        "  a = sorted(list(string))\n",
        "  A,U,G,C = 0,0,0,0\n",
        "  hi,lo = len(a) - 1, 0\n",
        "  start_C, start_G, start_U = 0,0,0\n",
        "  while lo <= hi:\n",
        "    mid = (hi+lo)//2\n",
        "    if a[mid]> 'C':\n",
        "      hi = mid-1\n",
        "    elif a[mid] < 'C':\n",
        "      lo = mid+1\n",
        "    else:\n",
        "      start_C = mid\n",
        "      hi = mid-1\n",
        "\n",
        "\n",
        "  hi,lo = len(a) - 1, 0\n",
        "  while lo <= hi:\n",
        "    mid = (hi+lo)//2\n",
        "    if a[mid]> 'G':\n",
        "      hi = mid-1\n",
        "    elif a[mid] < 'G':\n",
        "      lo = mid+1\n",
        "    else:\n",
        "      start_G = mid\n",
        "      hi = mid-1\n",
        "\n",
        "\n",
        "  hi,lo = len(a) - 1, 0\n",
        "  while lo <= hi:\n",
        "    mid = (hi+lo)//2\n",
        "    if a[mid]> 'U':\n",
        "      hi = mid-1\n",
        "    elif a[mid] < 'U':\n",
        "      lo = mid+1\n",
        "    else:\n",
        "      start_U = mid\n",
        "      hi = mid-1\n",
        "\n",
        "  return round(start_C/len(a),3), round((start_G - start_C)/len(a),3) , round((start_U - start_G)/len(a),3) , round((len(a)-start_U)/len(a),3)"
      ]
    },
    {
      "cell_type": "code",
      "execution_count": null,
      "metadata": {
        "id": "MTSFZXUZRtO-"
      },
      "outputs": [],
      "source": [
        "df['A_composition'] = len(df)*0\n",
        "df['C_composition'] = len(df)*0\n",
        "df['G_composition'] = len(df)*0\n",
        "df['U_composition'] = len(df)*0"
      ]
    },
    {
      "cell_type": "code",
      "execution_count": null,
      "metadata": {
        "id": "b-zFloFoKiYK"
      },
      "outputs": [],
      "source": [
        "for i in range(0, len(df)):\n",
        "  values = list(nucleotide_composition(df.Aligned[i]))\n",
        "  df.loc[i,'A_composition'] = values[0]\n",
        "  df.loc[i,'C_composition'] = values[1]\n",
        "  df.loc[i,'G_composition'] = values[2]\n",
        "  df.loc[i,'U_composition'] = values[3]"
      ]
    },
    {
      "cell_type": "code",
      "execution_count": null,
      "metadata": {
        "colab": {
          "base_uri": "https://localhost:8080/",
          "height": 424
        },
        "id": "howReXGQt-b5",
        "outputId": "24465ee5-e375-40f6-d32f-df9508b1d633"
      },
      "outputs": [
        {
          "output_type": "execute_result",
          "data": {
            "text/plain": [
              "                   Aligned    GG    GA    GC    GU    AG    AA    AC    AU  \\\n",
              "0    GAUAAAAGAGUUACUUUGAUA  0.15  0.05  0.10  0.10  0.00  0.00  0.00  0.05   \n",
              "1    AAAUAAGCUAUCGGGCCCAUA  0.15  0.00  0.05  0.15  0.05  0.10  0.05  0.05   \n",
              "2    CCCGAAAAUGUUGGUUAUAUC  0.15  0.00  0.00  0.15  0.00  0.10  0.05  0.00   \n",
              "3    UAACUUAGCAUUAACCUUUUA  0.10  0.10  0.05  0.05  0.05  0.05  0.00  0.10   \n",
              "4    UGGUGUCUGCUACCAUGAGUG  0.00  0.05  0.05  0.05  0.05  0.05  0.00  0.10   \n",
              "..                     ...   ...   ...   ...   ...   ...   ...   ...   ...   \n",
              "985  UGGGGAAGGGUUGUUUCUCAG  0.05  0.00  0.10  0.00  0.05  0.00  0.00  0.05   \n",
              "986  UCAAGGGGGGUUAGUAGAAAU  0.15  0.00  0.15  0.05  0.05  0.00  0.00  0.00   \n",
              "987  CUAUGACAAAUUAGUUGGACA  0.10  0.10  0.05  0.10  0.10  0.00  0.00  0.05   \n",
              "988  UGUCAGGGACUUAAGUUUUAC  0.05  0.10  0.10  0.00  0.05  0.00  0.00  0.05   \n",
              "989  ACAGGAAGAAUUGAGUCACAC  0.10  0.15  0.15  0.05  0.15  0.00  0.00  0.00   \n",
              "\n",
              "       CG  ...  17  18  19  20  21  Class  A_composition C_composition  \\\n",
              "0    0.15  ...   U   G   A   U   A      1          0.429         0.048   \n",
              "1    0.00  ...   C   C   A   U   A      1          0.381         0.238   \n",
              "2    0.05  ...   A   U   A   U   C      1          0.286         0.190   \n",
              "3    0.00  ...   U   U   U   U   A      1          0.333         0.190   \n",
              "4    0.05  ...   G   A   G   U   G      1          0.143         0.190   \n",
              "..    ...  ...  ..  ..  ..  ..  ..    ...            ...           ...   \n",
              "985  0.05  ...   C   U   C   A   G      0          0.143         0.095   \n",
              "986  0.05  ...   G   A   A   A   U      0          0.333         0.048   \n",
              "987  0.10  ...   G   G   A   C   A      0          0.381         0.143   \n",
              "988  0.05  ...   U   U   U   A   C      0          0.238         0.143   \n",
              "989  0.15  ...   C   A   C   A   C      0          0.429         0.190   \n",
              "\n",
              "    G_composition U_composition  \n",
              "0           0.190         0.333  \n",
              "1           0.190         0.190  \n",
              "2           0.190         0.333  \n",
              "3           0.048         0.429  \n",
              "4           0.333         0.333  \n",
              "..            ...           ...  \n",
              "985         0.429         0.333  \n",
              "986         0.381         0.238  \n",
              "987         0.190         0.286  \n",
              "988         0.238         0.381  \n",
              "989         0.238         0.143  \n",
              "\n",
              "[990 rows x 43 columns]"
            ],
            "text/html": [
              "\n",
              "  <div id=\"df-cdc133cd-cd29-4729-8d60-ac770eadff7a\">\n",
              "    <div class=\"colab-df-container\">\n",
              "      <div>\n",
              "<style scoped>\n",
              "    .dataframe tbody tr th:only-of-type {\n",
              "        vertical-align: middle;\n",
              "    }\n",
              "\n",
              "    .dataframe tbody tr th {\n",
              "        vertical-align: top;\n",
              "    }\n",
              "\n",
              "    .dataframe thead th {\n",
              "        text-align: right;\n",
              "    }\n",
              "</style>\n",
              "<table border=\"1\" class=\"dataframe\">\n",
              "  <thead>\n",
              "    <tr style=\"text-align: right;\">\n",
              "      <th></th>\n",
              "      <th>Aligned</th>\n",
              "      <th>GG</th>\n",
              "      <th>GA</th>\n",
              "      <th>GC</th>\n",
              "      <th>GU</th>\n",
              "      <th>AG</th>\n",
              "      <th>AA</th>\n",
              "      <th>AC</th>\n",
              "      <th>AU</th>\n",
              "      <th>CG</th>\n",
              "      <th>...</th>\n",
              "      <th>17</th>\n",
              "      <th>18</th>\n",
              "      <th>19</th>\n",
              "      <th>20</th>\n",
              "      <th>21</th>\n",
              "      <th>Class</th>\n",
              "      <th>A_composition</th>\n",
              "      <th>C_composition</th>\n",
              "      <th>G_composition</th>\n",
              "      <th>U_composition</th>\n",
              "    </tr>\n",
              "  </thead>\n",
              "  <tbody>\n",
              "    <tr>\n",
              "      <th>0</th>\n",
              "      <td>GAUAAAAGAGUUACUUUGAUA</td>\n",
              "      <td>0.15</td>\n",
              "      <td>0.05</td>\n",
              "      <td>0.10</td>\n",
              "      <td>0.10</td>\n",
              "      <td>0.00</td>\n",
              "      <td>0.00</td>\n",
              "      <td>0.00</td>\n",
              "      <td>0.05</td>\n",
              "      <td>0.15</td>\n",
              "      <td>...</td>\n",
              "      <td>U</td>\n",
              "      <td>G</td>\n",
              "      <td>A</td>\n",
              "      <td>U</td>\n",
              "      <td>A</td>\n",
              "      <td>1</td>\n",
              "      <td>0.429</td>\n",
              "      <td>0.048</td>\n",
              "      <td>0.190</td>\n",
              "      <td>0.333</td>\n",
              "    </tr>\n",
              "    <tr>\n",
              "      <th>1</th>\n",
              "      <td>AAAUAAGCUAUCGGGCCCAUA</td>\n",
              "      <td>0.15</td>\n",
              "      <td>0.00</td>\n",
              "      <td>0.05</td>\n",
              "      <td>0.15</td>\n",
              "      <td>0.05</td>\n",
              "      <td>0.10</td>\n",
              "      <td>0.05</td>\n",
              "      <td>0.05</td>\n",
              "      <td>0.00</td>\n",
              "      <td>...</td>\n",
              "      <td>C</td>\n",
              "      <td>C</td>\n",
              "      <td>A</td>\n",
              "      <td>U</td>\n",
              "      <td>A</td>\n",
              "      <td>1</td>\n",
              "      <td>0.381</td>\n",
              "      <td>0.238</td>\n",
              "      <td>0.190</td>\n",
              "      <td>0.190</td>\n",
              "    </tr>\n",
              "    <tr>\n",
              "      <th>2</th>\n",
              "      <td>CCCGAAAAUGUUGGUUAUAUC</td>\n",
              "      <td>0.15</td>\n",
              "      <td>0.00</td>\n",
              "      <td>0.00</td>\n",
              "      <td>0.15</td>\n",
              "      <td>0.00</td>\n",
              "      <td>0.10</td>\n",
              "      <td>0.05</td>\n",
              "      <td>0.00</td>\n",
              "      <td>0.05</td>\n",
              "      <td>...</td>\n",
              "      <td>A</td>\n",
              "      <td>U</td>\n",
              "      <td>A</td>\n",
              "      <td>U</td>\n",
              "      <td>C</td>\n",
              "      <td>1</td>\n",
              "      <td>0.286</td>\n",
              "      <td>0.190</td>\n",
              "      <td>0.190</td>\n",
              "      <td>0.333</td>\n",
              "    </tr>\n",
              "    <tr>\n",
              "      <th>3</th>\n",
              "      <td>UAACUUAGCAUUAACCUUUUA</td>\n",
              "      <td>0.10</td>\n",
              "      <td>0.10</td>\n",
              "      <td>0.05</td>\n",
              "      <td>0.05</td>\n",
              "      <td>0.05</td>\n",
              "      <td>0.05</td>\n",
              "      <td>0.00</td>\n",
              "      <td>0.10</td>\n",
              "      <td>0.00</td>\n",
              "      <td>...</td>\n",
              "      <td>U</td>\n",
              "      <td>U</td>\n",
              "      <td>U</td>\n",
              "      <td>U</td>\n",
              "      <td>A</td>\n",
              "      <td>1</td>\n",
              "      <td>0.333</td>\n",
              "      <td>0.190</td>\n",
              "      <td>0.048</td>\n",
              "      <td>0.429</td>\n",
              "    </tr>\n",
              "    <tr>\n",
              "      <th>4</th>\n",
              "      <td>UGGUGUCUGCUACCAUGAGUG</td>\n",
              "      <td>0.00</td>\n",
              "      <td>0.05</td>\n",
              "      <td>0.05</td>\n",
              "      <td>0.05</td>\n",
              "      <td>0.05</td>\n",
              "      <td>0.05</td>\n",
              "      <td>0.00</td>\n",
              "      <td>0.10</td>\n",
              "      <td>0.05</td>\n",
              "      <td>...</td>\n",
              "      <td>G</td>\n",
              "      <td>A</td>\n",
              "      <td>G</td>\n",
              "      <td>U</td>\n",
              "      <td>G</td>\n",
              "      <td>1</td>\n",
              "      <td>0.143</td>\n",
              "      <td>0.190</td>\n",
              "      <td>0.333</td>\n",
              "      <td>0.333</td>\n",
              "    </tr>\n",
              "    <tr>\n",
              "      <th>...</th>\n",
              "      <td>...</td>\n",
              "      <td>...</td>\n",
              "      <td>...</td>\n",
              "      <td>...</td>\n",
              "      <td>...</td>\n",
              "      <td>...</td>\n",
              "      <td>...</td>\n",
              "      <td>...</td>\n",
              "      <td>...</td>\n",
              "      <td>...</td>\n",
              "      <td>...</td>\n",
              "      <td>...</td>\n",
              "      <td>...</td>\n",
              "      <td>...</td>\n",
              "      <td>...</td>\n",
              "      <td>...</td>\n",
              "      <td>...</td>\n",
              "      <td>...</td>\n",
              "      <td>...</td>\n",
              "      <td>...</td>\n",
              "      <td>...</td>\n",
              "    </tr>\n",
              "    <tr>\n",
              "      <th>985</th>\n",
              "      <td>UGGGGAAGGGUUGUUUCUCAG</td>\n",
              "      <td>0.05</td>\n",
              "      <td>0.00</td>\n",
              "      <td>0.10</td>\n",
              "      <td>0.00</td>\n",
              "      <td>0.05</td>\n",
              "      <td>0.00</td>\n",
              "      <td>0.00</td>\n",
              "      <td>0.05</td>\n",
              "      <td>0.05</td>\n",
              "      <td>...</td>\n",
              "      <td>C</td>\n",
              "      <td>U</td>\n",
              "      <td>C</td>\n",
              "      <td>A</td>\n",
              "      <td>G</td>\n",
              "      <td>0</td>\n",
              "      <td>0.143</td>\n",
              "      <td>0.095</td>\n",
              "      <td>0.429</td>\n",
              "      <td>0.333</td>\n",
              "    </tr>\n",
              "    <tr>\n",
              "      <th>986</th>\n",
              "      <td>UCAAGGGGGGUUAGUAGAAAU</td>\n",
              "      <td>0.15</td>\n",
              "      <td>0.00</td>\n",
              "      <td>0.15</td>\n",
              "      <td>0.05</td>\n",
              "      <td>0.05</td>\n",
              "      <td>0.00</td>\n",
              "      <td>0.00</td>\n",
              "      <td>0.00</td>\n",
              "      <td>0.05</td>\n",
              "      <td>...</td>\n",
              "      <td>G</td>\n",
              "      <td>A</td>\n",
              "      <td>A</td>\n",
              "      <td>A</td>\n",
              "      <td>U</td>\n",
              "      <td>0</td>\n",
              "      <td>0.333</td>\n",
              "      <td>0.048</td>\n",
              "      <td>0.381</td>\n",
              "      <td>0.238</td>\n",
              "    </tr>\n",
              "    <tr>\n",
              "      <th>987</th>\n",
              "      <td>CUAUGACAAAUUAGUUGGACA</td>\n",
              "      <td>0.10</td>\n",
              "      <td>0.10</td>\n",
              "      <td>0.05</td>\n",
              "      <td>0.10</td>\n",
              "      <td>0.10</td>\n",
              "      <td>0.00</td>\n",
              "      <td>0.00</td>\n",
              "      <td>0.05</td>\n",
              "      <td>0.10</td>\n",
              "      <td>...</td>\n",
              "      <td>G</td>\n",
              "      <td>G</td>\n",
              "      <td>A</td>\n",
              "      <td>C</td>\n",
              "      <td>A</td>\n",
              "      <td>0</td>\n",
              "      <td>0.381</td>\n",
              "      <td>0.143</td>\n",
              "      <td>0.190</td>\n",
              "      <td>0.286</td>\n",
              "    </tr>\n",
              "    <tr>\n",
              "      <th>988</th>\n",
              "      <td>UGUCAGGGACUUAAGUUUUAC</td>\n",
              "      <td>0.05</td>\n",
              "      <td>0.10</td>\n",
              "      <td>0.10</td>\n",
              "      <td>0.00</td>\n",
              "      <td>0.05</td>\n",
              "      <td>0.00</td>\n",
              "      <td>0.00</td>\n",
              "      <td>0.05</td>\n",
              "      <td>0.05</td>\n",
              "      <td>...</td>\n",
              "      <td>U</td>\n",
              "      <td>U</td>\n",
              "      <td>U</td>\n",
              "      <td>A</td>\n",
              "      <td>C</td>\n",
              "      <td>0</td>\n",
              "      <td>0.238</td>\n",
              "      <td>0.143</td>\n",
              "      <td>0.238</td>\n",
              "      <td>0.381</td>\n",
              "    </tr>\n",
              "    <tr>\n",
              "      <th>989</th>\n",
              "      <td>ACAGGAAGAAUUGAGUCACAC</td>\n",
              "      <td>0.10</td>\n",
              "      <td>0.15</td>\n",
              "      <td>0.15</td>\n",
              "      <td>0.05</td>\n",
              "      <td>0.15</td>\n",
              "      <td>0.00</td>\n",
              "      <td>0.00</td>\n",
              "      <td>0.00</td>\n",
              "      <td>0.15</td>\n",
              "      <td>...</td>\n",
              "      <td>C</td>\n",
              "      <td>A</td>\n",
              "      <td>C</td>\n",
              "      <td>A</td>\n",
              "      <td>C</td>\n",
              "      <td>0</td>\n",
              "      <td>0.429</td>\n",
              "      <td>0.190</td>\n",
              "      <td>0.238</td>\n",
              "      <td>0.143</td>\n",
              "    </tr>\n",
              "  </tbody>\n",
              "</table>\n",
              "<p>990 rows × 43 columns</p>\n",
              "</div>\n",
              "      <button class=\"colab-df-convert\" onclick=\"convertToInteractive('df-cdc133cd-cd29-4729-8d60-ac770eadff7a')\"\n",
              "              title=\"Convert this dataframe to an interactive table.\"\n",
              "              style=\"display:none;\">\n",
              "        \n",
              "  <svg xmlns=\"http://www.w3.org/2000/svg\" height=\"24px\"viewBox=\"0 0 24 24\"\n",
              "       width=\"24px\">\n",
              "    <path d=\"M0 0h24v24H0V0z\" fill=\"none\"/>\n",
              "    <path d=\"M18.56 5.44l.94 2.06.94-2.06 2.06-.94-2.06-.94-.94-2.06-.94 2.06-2.06.94zm-11 1L8.5 8.5l.94-2.06 2.06-.94-2.06-.94L8.5 2.5l-.94 2.06-2.06.94zm10 10l.94 2.06.94-2.06 2.06-.94-2.06-.94-.94-2.06-.94 2.06-2.06.94z\"/><path d=\"M17.41 7.96l-1.37-1.37c-.4-.4-.92-.59-1.43-.59-.52 0-1.04.2-1.43.59L10.3 9.45l-7.72 7.72c-.78.78-.78 2.05 0 2.83L4 21.41c.39.39.9.59 1.41.59.51 0 1.02-.2 1.41-.59l7.78-7.78 2.81-2.81c.8-.78.8-2.07 0-2.86zM5.41 20L4 18.59l7.72-7.72 1.47 1.35L5.41 20z\"/>\n",
              "  </svg>\n",
              "      </button>\n",
              "      \n",
              "  <style>\n",
              "    .colab-df-container {\n",
              "      display:flex;\n",
              "      flex-wrap:wrap;\n",
              "      gap: 12px;\n",
              "    }\n",
              "\n",
              "    .colab-df-convert {\n",
              "      background-color: #E8F0FE;\n",
              "      border: none;\n",
              "      border-radius: 50%;\n",
              "      cursor: pointer;\n",
              "      display: none;\n",
              "      fill: #1967D2;\n",
              "      height: 32px;\n",
              "      padding: 0 0 0 0;\n",
              "      width: 32px;\n",
              "    }\n",
              "\n",
              "    .colab-df-convert:hover {\n",
              "      background-color: #E2EBFA;\n",
              "      box-shadow: 0px 1px 2px rgba(60, 64, 67, 0.3), 0px 1px 3px 1px rgba(60, 64, 67, 0.15);\n",
              "      fill: #174EA6;\n",
              "    }\n",
              "\n",
              "    [theme=dark] .colab-df-convert {\n",
              "      background-color: #3B4455;\n",
              "      fill: #D2E3FC;\n",
              "    }\n",
              "\n",
              "    [theme=dark] .colab-df-convert:hover {\n",
              "      background-color: #434B5C;\n",
              "      box-shadow: 0px 1px 3px 1px rgba(0, 0, 0, 0.15);\n",
              "      filter: drop-shadow(0px 1px 2px rgba(0, 0, 0, 0.3));\n",
              "      fill: #FFFFFF;\n",
              "    }\n",
              "  </style>\n",
              "\n",
              "      <script>\n",
              "        const buttonEl =\n",
              "          document.querySelector('#df-cdc133cd-cd29-4729-8d60-ac770eadff7a button.colab-df-convert');\n",
              "        buttonEl.style.display =\n",
              "          google.colab.kernel.accessAllowed ? 'block' : 'none';\n",
              "\n",
              "        async function convertToInteractive(key) {\n",
              "          const element = document.querySelector('#df-cdc133cd-cd29-4729-8d60-ac770eadff7a');\n",
              "          const dataTable =\n",
              "            await google.colab.kernel.invokeFunction('convertToInteractive',\n",
              "                                                     [key], {});\n",
              "          if (!dataTable) return;\n",
              "\n",
              "          const docLinkHtml = 'Like what you see? Visit the ' +\n",
              "            '<a target=\"_blank\" href=https://colab.research.google.com/notebooks/data_table.ipynb>data table notebook</a>'\n",
              "            + ' to learn more about interactive tables.';\n",
              "          element.innerHTML = '';\n",
              "          dataTable['output_type'] = 'display_data';\n",
              "          await google.colab.output.renderOutput(dataTable, element);\n",
              "          const docLink = document.createElement('div');\n",
              "          docLink.innerHTML = docLinkHtml;\n",
              "          element.appendChild(docLink);\n",
              "        }\n",
              "      </script>\n",
              "    </div>\n",
              "  </div>\n",
              "  "
            ]
          },
          "metadata": {},
          "execution_count": 8
        }
      ],
      "source": [
        "df"
      ]
    },
    {
      "cell_type": "code",
      "execution_count": null,
      "metadata": {
        "id": "Yn6pDgBJ-ZIc"
      },
      "outputs": [],
      "source": [
        "# PSNP calculation\n",
        "import numpy as np\n",
        "\n",
        "# Positive samples\n",
        "a_freq_positive = np.zeros(21, dtype= int).tolist()\n",
        "u_freq_positive = np.zeros(21, dtype= int).tolist()\n",
        "g_freq_positive = np.zeros(21, dtype= int).tolist()\n",
        "c_freq_positive = np.zeros(21, dtype= int).tolist()\n",
        "\n",
        "for i in range(0,494):\n",
        "    for j in range(0,21):\n",
        "      if df.Aligned[i][j] == 'A':\n",
        "        a_freq_positive[j]+=1\n",
        "      elif df.Aligned[i][j] == 'U':\n",
        "        u_freq_positive[j]+=1 \n",
        "      elif df.Aligned[i][j] == 'G':\n",
        "        g_freq_positive[j]+=1\n",
        "      elif df.Aligned[i][j] == 'C':\n",
        "        c_freq_positive[j]+=1\n",
        "\n",
        "# Negative samples\n",
        "a_freq_negative = np.zeros(21, dtype= int).tolist()\n",
        "u_freq_negative = np.zeros(21, dtype= int).tolist()\n",
        "g_freq_negative = np.zeros(21, dtype= int).tolist()\n",
        "c_freq_negative = np.zeros(21, dtype= int).tolist()\n",
        "\n",
        "for i in range(494,989):\n",
        "    for j in range(0,21):\n",
        "      if df.Aligned[i][j] == 'A':\n",
        "        a_freq_negative[j]+=1\n",
        "      elif df.Aligned[i][j] == 'U':\n",
        "        u_freq_negative[j]+=1 \n",
        "      elif df.Aligned[i][j] == 'G':\n",
        "        g_freq_negative[j]+=1\n",
        "      elif df.Aligned[i][j] == 'C':\n",
        "        c_freq_negative[j]+=1"
      ]
    },
    {
      "cell_type": "code",
      "execution_count": null,
      "metadata": {
        "id": "uGpihRyKKnFs"
      },
      "outputs": [],
      "source": [
        "# Final calculation\n",
        "a_psnp = np.zeros(21, dtype= int).tolist()\n",
        "u_psnp = np.zeros(21, dtype= int).tolist()\n",
        "g_psnp = np.zeros(21, dtype= int).tolist()\n",
        "c_psnp = np.zeros(21, dtype= int).tolist()\n",
        "\n",
        "for i in range(0,21):\n",
        "\n",
        "  a_psnp[i] = (a_freq_positive[i] - a_freq_negative[i])/495\n",
        "  u_psnp[i] = (u_freq_positive[i] - u_freq_negative[i])/495\n",
        "  g_psnp[i]= (g_freq_positive[i] - g_freq_negative[i])/495\n",
        "  c_psnp[i] = (c_freq_positive[i] - c_freq_negative[i])/495"
      ]
    },
    {
      "cell_type": "code",
      "execution_count": null,
      "metadata": {
        "colab": {
          "base_uri": "https://localhost:8080/",
          "height": 303
        },
        "id": "tCT0HMtLcQts",
        "outputId": "d3a9a4b3-eca1-436e-a546-170461b34401"
      },
      "outputs": [
        {
          "output_type": "execute_result",
          "data": {
            "text/plain": [
              "  pnsp at position 1 pnsp at position 2 pnsp at position 3 pnsp at position 4  \\\n",
              "A           0.022222          -0.050505           -0.00404          -0.018182   \n",
              "C           0.006061           0.034343          -0.016162           0.028283   \n",
              "G           0.050505           0.024242           0.028283          -0.012121   \n",
              "U          -0.080808          -0.010101          -0.010101                0.0   \n",
              "\n",
              "  pnsp at position 5 pnsp at position 6 pnsp at position 7 pnsp at position 8  \\\n",
              "A          -0.038384          -0.006061          -0.044444           0.006061   \n",
              "C          -0.012121           0.020202           0.050505           0.032323   \n",
              "G          -0.006061           0.062626           -0.00202           0.018182   \n",
              "U           0.054545          -0.078788          -0.006061          -0.058586   \n",
              "\n",
              "  pnsp at position 9 pnsp at position 10  ... pnsp at position 12  \\\n",
              "A          -0.062626            -0.10101  ...             0.10101   \n",
              "C           0.008081           -0.012121  ...           -0.070707   \n",
              "G           0.064646            0.042424  ...           -0.109091   \n",
              "U          -0.012121            0.068687  ...            0.076768   \n",
              "\n",
              "  pnsp at position 13 pnsp at position 14 pnsp at position 15  \\\n",
              "A           -0.056566           -0.026263           -0.026263   \n",
              "C            0.074747            0.014141             0.00404   \n",
              "G           -0.026263            0.068687            0.026263   \n",
              "U            0.006061           -0.058586           -0.006061   \n",
              "\n",
              "  pnsp at position 16 pnsp at position 17 pnsp at position 18  \\\n",
              "A           -0.038384           -0.024242           -0.054545   \n",
              "C             0.00404            0.042424            0.048485   \n",
              "G            0.022222            0.006061            0.050505   \n",
              "U            0.010101           -0.026263           -0.046465   \n",
              "\n",
              "  pnsp at position 19 pnsp at position 20 pnsp at position 21  \n",
              "A           -0.040404           -0.058586           -0.018182  \n",
              "C            0.034343            0.080808            0.030303  \n",
              "G            0.044444           -0.024242           -0.018182  \n",
              "U           -0.040404                 0.0             0.00404  \n",
              "\n",
              "[4 rows x 21 columns]"
            ],
            "text/html": [
              "\n",
              "  <div id=\"df-7ed488fa-058b-445b-8036-52bb05f34816\">\n",
              "    <div class=\"colab-df-container\">\n",
              "      <div>\n",
              "<style scoped>\n",
              "    .dataframe tbody tr th:only-of-type {\n",
              "        vertical-align: middle;\n",
              "    }\n",
              "\n",
              "    .dataframe tbody tr th {\n",
              "        vertical-align: top;\n",
              "    }\n",
              "\n",
              "    .dataframe thead th {\n",
              "        text-align: right;\n",
              "    }\n",
              "</style>\n",
              "<table border=\"1\" class=\"dataframe\">\n",
              "  <thead>\n",
              "    <tr style=\"text-align: right;\">\n",
              "      <th></th>\n",
              "      <th>pnsp at position 1</th>\n",
              "      <th>pnsp at position 2</th>\n",
              "      <th>pnsp at position 3</th>\n",
              "      <th>pnsp at position 4</th>\n",
              "      <th>pnsp at position 5</th>\n",
              "      <th>pnsp at position 6</th>\n",
              "      <th>pnsp at position 7</th>\n",
              "      <th>pnsp at position 8</th>\n",
              "      <th>pnsp at position 9</th>\n",
              "      <th>pnsp at position 10</th>\n",
              "      <th>...</th>\n",
              "      <th>pnsp at position 12</th>\n",
              "      <th>pnsp at position 13</th>\n",
              "      <th>pnsp at position 14</th>\n",
              "      <th>pnsp at position 15</th>\n",
              "      <th>pnsp at position 16</th>\n",
              "      <th>pnsp at position 17</th>\n",
              "      <th>pnsp at position 18</th>\n",
              "      <th>pnsp at position 19</th>\n",
              "      <th>pnsp at position 20</th>\n",
              "      <th>pnsp at position 21</th>\n",
              "    </tr>\n",
              "  </thead>\n",
              "  <tbody>\n",
              "    <tr>\n",
              "      <th>A</th>\n",
              "      <td>0.022222</td>\n",
              "      <td>-0.050505</td>\n",
              "      <td>-0.00404</td>\n",
              "      <td>-0.018182</td>\n",
              "      <td>-0.038384</td>\n",
              "      <td>-0.006061</td>\n",
              "      <td>-0.044444</td>\n",
              "      <td>0.006061</td>\n",
              "      <td>-0.062626</td>\n",
              "      <td>-0.10101</td>\n",
              "      <td>...</td>\n",
              "      <td>0.10101</td>\n",
              "      <td>-0.056566</td>\n",
              "      <td>-0.026263</td>\n",
              "      <td>-0.026263</td>\n",
              "      <td>-0.038384</td>\n",
              "      <td>-0.024242</td>\n",
              "      <td>-0.054545</td>\n",
              "      <td>-0.040404</td>\n",
              "      <td>-0.058586</td>\n",
              "      <td>-0.018182</td>\n",
              "    </tr>\n",
              "    <tr>\n",
              "      <th>C</th>\n",
              "      <td>0.006061</td>\n",
              "      <td>0.034343</td>\n",
              "      <td>-0.016162</td>\n",
              "      <td>0.028283</td>\n",
              "      <td>-0.012121</td>\n",
              "      <td>0.020202</td>\n",
              "      <td>0.050505</td>\n",
              "      <td>0.032323</td>\n",
              "      <td>0.008081</td>\n",
              "      <td>-0.012121</td>\n",
              "      <td>...</td>\n",
              "      <td>-0.070707</td>\n",
              "      <td>0.074747</td>\n",
              "      <td>0.014141</td>\n",
              "      <td>0.00404</td>\n",
              "      <td>0.00404</td>\n",
              "      <td>0.042424</td>\n",
              "      <td>0.048485</td>\n",
              "      <td>0.034343</td>\n",
              "      <td>0.080808</td>\n",
              "      <td>0.030303</td>\n",
              "    </tr>\n",
              "    <tr>\n",
              "      <th>G</th>\n",
              "      <td>0.050505</td>\n",
              "      <td>0.024242</td>\n",
              "      <td>0.028283</td>\n",
              "      <td>-0.012121</td>\n",
              "      <td>-0.006061</td>\n",
              "      <td>0.062626</td>\n",
              "      <td>-0.00202</td>\n",
              "      <td>0.018182</td>\n",
              "      <td>0.064646</td>\n",
              "      <td>0.042424</td>\n",
              "      <td>...</td>\n",
              "      <td>-0.109091</td>\n",
              "      <td>-0.026263</td>\n",
              "      <td>0.068687</td>\n",
              "      <td>0.026263</td>\n",
              "      <td>0.022222</td>\n",
              "      <td>0.006061</td>\n",
              "      <td>0.050505</td>\n",
              "      <td>0.044444</td>\n",
              "      <td>-0.024242</td>\n",
              "      <td>-0.018182</td>\n",
              "    </tr>\n",
              "    <tr>\n",
              "      <th>U</th>\n",
              "      <td>-0.080808</td>\n",
              "      <td>-0.010101</td>\n",
              "      <td>-0.010101</td>\n",
              "      <td>0.0</td>\n",
              "      <td>0.054545</td>\n",
              "      <td>-0.078788</td>\n",
              "      <td>-0.006061</td>\n",
              "      <td>-0.058586</td>\n",
              "      <td>-0.012121</td>\n",
              "      <td>0.068687</td>\n",
              "      <td>...</td>\n",
              "      <td>0.076768</td>\n",
              "      <td>0.006061</td>\n",
              "      <td>-0.058586</td>\n",
              "      <td>-0.006061</td>\n",
              "      <td>0.010101</td>\n",
              "      <td>-0.026263</td>\n",
              "      <td>-0.046465</td>\n",
              "      <td>-0.040404</td>\n",
              "      <td>0.0</td>\n",
              "      <td>0.00404</td>\n",
              "    </tr>\n",
              "  </tbody>\n",
              "</table>\n",
              "<p>4 rows × 21 columns</p>\n",
              "</div>\n",
              "      <button class=\"colab-df-convert\" onclick=\"convertToInteractive('df-7ed488fa-058b-445b-8036-52bb05f34816')\"\n",
              "              title=\"Convert this dataframe to an interactive table.\"\n",
              "              style=\"display:none;\">\n",
              "        \n",
              "  <svg xmlns=\"http://www.w3.org/2000/svg\" height=\"24px\"viewBox=\"0 0 24 24\"\n",
              "       width=\"24px\">\n",
              "    <path d=\"M0 0h24v24H0V0z\" fill=\"none\"/>\n",
              "    <path d=\"M18.56 5.44l.94 2.06.94-2.06 2.06-.94-2.06-.94-.94-2.06-.94 2.06-2.06.94zm-11 1L8.5 8.5l.94-2.06 2.06-.94-2.06-.94L8.5 2.5l-.94 2.06-2.06.94zm10 10l.94 2.06.94-2.06 2.06-.94-2.06-.94-.94-2.06-.94 2.06-2.06.94z\"/><path d=\"M17.41 7.96l-1.37-1.37c-.4-.4-.92-.59-1.43-.59-.52 0-1.04.2-1.43.59L10.3 9.45l-7.72 7.72c-.78.78-.78 2.05 0 2.83L4 21.41c.39.39.9.59 1.41.59.51 0 1.02-.2 1.41-.59l7.78-7.78 2.81-2.81c.8-.78.8-2.07 0-2.86zM5.41 20L4 18.59l7.72-7.72 1.47 1.35L5.41 20z\"/>\n",
              "  </svg>\n",
              "      </button>\n",
              "      \n",
              "  <style>\n",
              "    .colab-df-container {\n",
              "      display:flex;\n",
              "      flex-wrap:wrap;\n",
              "      gap: 12px;\n",
              "    }\n",
              "\n",
              "    .colab-df-convert {\n",
              "      background-color: #E8F0FE;\n",
              "      border: none;\n",
              "      border-radius: 50%;\n",
              "      cursor: pointer;\n",
              "      display: none;\n",
              "      fill: #1967D2;\n",
              "      height: 32px;\n",
              "      padding: 0 0 0 0;\n",
              "      width: 32px;\n",
              "    }\n",
              "\n",
              "    .colab-df-convert:hover {\n",
              "      background-color: #E2EBFA;\n",
              "      box-shadow: 0px 1px 2px rgba(60, 64, 67, 0.3), 0px 1px 3px 1px rgba(60, 64, 67, 0.15);\n",
              "      fill: #174EA6;\n",
              "    }\n",
              "\n",
              "    [theme=dark] .colab-df-convert {\n",
              "      background-color: #3B4455;\n",
              "      fill: #D2E3FC;\n",
              "    }\n",
              "\n",
              "    [theme=dark] .colab-df-convert:hover {\n",
              "      background-color: #434B5C;\n",
              "      box-shadow: 0px 1px 3px 1px rgba(0, 0, 0, 0.15);\n",
              "      filter: drop-shadow(0px 1px 2px rgba(0, 0, 0, 0.3));\n",
              "      fill: #FFFFFF;\n",
              "    }\n",
              "  </style>\n",
              "\n",
              "      <script>\n",
              "        const buttonEl =\n",
              "          document.querySelector('#df-7ed488fa-058b-445b-8036-52bb05f34816 button.colab-df-convert');\n",
              "        buttonEl.style.display =\n",
              "          google.colab.kernel.accessAllowed ? 'block' : 'none';\n",
              "\n",
              "        async function convertToInteractive(key) {\n",
              "          const element = document.querySelector('#df-7ed488fa-058b-445b-8036-52bb05f34816');\n",
              "          const dataTable =\n",
              "            await google.colab.kernel.invokeFunction('convertToInteractive',\n",
              "                                                     [key], {});\n",
              "          if (!dataTable) return;\n",
              "\n",
              "          const docLinkHtml = 'Like what you see? Visit the ' +\n",
              "            '<a target=\"_blank\" href=https://colab.research.google.com/notebooks/data_table.ipynb>data table notebook</a>'\n",
              "            + ' to learn more about interactive tables.';\n",
              "          element.innerHTML = '';\n",
              "          dataTable['output_type'] = 'display_data';\n",
              "          await google.colab.output.renderOutput(dataTable, element);\n",
              "          const docLink = document.createElement('div');\n",
              "          docLink.innerHTML = docLinkHtml;\n",
              "          element.appendChild(docLink);\n",
              "        }\n",
              "      </script>\n",
              "    </div>\n",
              "  </div>\n",
              "  "
            ]
          },
          "metadata": {},
          "execution_count": 11
        }
      ],
      "source": [
        "columns=[]\n",
        "for i in range(1,22):\n",
        "      columns.append(f\"pnsp at position {i}\")\n",
        "df_psnp=pd.DataFrame(columns=columns, index=['A', 'C','G','U'])\n",
        "df_psnp.loc['A'] = a_psnp\n",
        "df_psnp.loc['C'] = c_psnp\n",
        "df_psnp.loc['G'] = g_psnp\n",
        "df_psnp.loc['U'] = u_psnp\n",
        "df_psnp"
      ]
    },
    {
      "cell_type": "code",
      "execution_count": null,
      "metadata": {
        "id": "elWRkgrBR7I9"
      },
      "outputs": [],
      "source": [
        "##applying psnp matrix to the dataset given\n",
        "X_psnp = x.copy()\n",
        "df_pnsp_applied = X_psnp\n",
        "for i in range(990):\n",
        "    for j in range(21):\n",
        "        if (df_pnsp_applied.iloc[i,j+1]=='A'):\n",
        "            df_pnsp_applied.iloc[i,j+1]=df_psnp.iloc[0,j]\n",
        "        elif (df_pnsp_applied.iloc[i,j+1]=='C'):\n",
        "            df_pnsp_applied.iloc[i,j+1]=df_psnp.iloc[1,j]\n",
        "        elif (df_pnsp_applied.iloc[i,j+1]=='G'):\n",
        "            df_pnsp_applied.iloc[i,j+1]=df_psnp.iloc[2,j]\n",
        "        elif (df_pnsp_applied.iloc[i,j+1]=='U'):\n",
        "            df_pnsp_applied.iloc[i,j+1]=df_psnp.iloc[3,j]\n",
        "        "
      ]
    },
    {
      "cell_type": "code",
      "execution_count": null,
      "metadata": {
        "id": "sKkNGxp6R7LG"
      },
      "outputs": [],
      "source": [
        "#df_pnsp_applied"
      ]
    },
    {
      "cell_type": "code",
      "execution_count": null,
      "metadata": {
        "colab": {
          "base_uri": "https://localhost:8080/"
        },
        "id": "sMjDIUTRR7Pj",
        "outputId": "22879847-34a4-4add-dabd-248df2828f16"
      },
      "outputs": [
        {
          "output_type": "stream",
          "name": "stderr",
          "text": [
            "/usr/local/lib/python3.7/dist-packages/ipykernel_launcher.py:13: DeprecationWarning: The default dtype for empty Series will be 'object' instead of 'float64' in a future version. Specify a dtype explicitly to silence this warning.\n",
            "  del sys.path[0]\n",
            "/usr/local/lib/python3.7/dist-packages/ipykernel_launcher.py:14: DeprecationWarning: The default dtype for empty Series will be 'object' instead of 'float64' in a future version. Specify a dtype explicitly to silence this warning.\n",
            "  \n",
            "/usr/local/lib/python3.7/dist-packages/ipykernel_launcher.py:36: DeprecationWarning: The default dtype for empty Series will be 'object' instead of 'float64' in a future version. Specify a dtype explicitly to silence this warning.\n"
          ]
        }
      ],
      "source": [
        "#PSDP feature vector creation using the method described in paper\n",
        "Letters=['AA', 'AC','AG','AU','CA','CC','CG','CU','GA','GC','GG','GU','UA','UC','UG','UU']\n",
        "df_psdp_pos=pd.DataFrame(columns=['position_1','position_2','position_3','position_4','position_5','position_6','position_7','position_8',\n",
        "                        'position_9','position_10','position_11','position_12','position_13','position_14','position_15','position_16',\n",
        "                        'position_17','position_18','position_19','position_20'])\n",
        "\n",
        "for k in range(16):\n",
        "    position_wise_frequency_positive=[]\n",
        "    for j in range(1,21):\n",
        "        A_pos=0\n",
        "        \n",
        "        for i in range(495):\n",
        "            A_at_pos=pd.Series()\n",
        "            A_at_pos2=pd.Series()\n",
        "            A_at_pos=x[f\"{j}\"]\n",
        "            A_at_pos2=x[f\"{j+1}\"]\n",
        "            var=Letters[k]\n",
        "            if (A_at_pos[i]+A_at_pos2[i])==var:\n",
        "                A_pos=A_pos+1\n",
        "        position_wise_frequency_positive.append(A_pos/495)\n",
        "    \n",
        "    df_psdp_pos = df_psdp_pos.append({'position_1':position_wise_frequency_positive[0],'position_2':position_wise_frequency_positive[1],'position_3':position_wise_frequency_positive[2],'position_4':position_wise_frequency_positive[3],'position_5':position_wise_frequency_positive[4],'position_6':position_wise_frequency_positive[5],'position_7':position_wise_frequency_positive[6],'position_8':position_wise_frequency_positive[7],\n",
        "                        'position_9':position_wise_frequency_positive[8],'position_10':position_wise_frequency_positive[9],'position_11':position_wise_frequency_positive[10],'position_12':position_wise_frequency_positive[11],'position_13':position_wise_frequency_positive[12],'position_14':position_wise_frequency_positive[13],'position_15':position_wise_frequency_positive[14],'position_16':position_wise_frequency_positive[15],\n",
        "                       'position_17':position_wise_frequency_positive[16],'position_18':position_wise_frequency_positive[17],'position_19':position_wise_frequency_positive[18],'position_20':position_wise_frequency_positive[19]}, \n",
        "                ignore_index = True)\n",
        "\n",
        "df_psdp_neg=pd.DataFrame(columns=['position_1','position_2','position_3','position_4','position_5','position_6','position_7','position_8',\n",
        "                        'position_9','position_10','position_11','position_12','position_13','position_14','position_15','position_16',\n",
        "                        'position_17','position_18','position_19','position_20'])\n",
        "for k in range(16):\n",
        "    position_wise_frequency_negative=[]\n",
        "    for j in range(1,21):\n",
        "        A_pos=0\n",
        "        \n",
        "        for i in range(495,990):\n",
        "            A_at_pos=pd.Series()\n",
        "            A_at_pos=x[f\"{j}\"]\n",
        "            A_at_pos2=x[f\"{j+1}\"]\n",
        "            var=Letters[k]\n",
        "            if (A_at_pos[i]+A_at_pos2[i])==var:\n",
        "                A_pos=A_pos+1\n",
        "        position_wise_frequency_negative.append(A_pos/495)\n",
        "    df_psdp_neg = df_psdp_neg.append({\"position_1\":position_wise_frequency_negative[0],'position_2':position_wise_frequency_negative[1],'position_3':position_wise_frequency_negative[2],'position_4':position_wise_frequency_negative[3],'position_5':position_wise_frequency_negative[4],'position_6':position_wise_frequency_negative[5],'position_7':position_wise_frequency_negative[6],'position_8':position_wise_frequency_negative[7],\n",
        "                        'position_9':position_wise_frequency_negative[8],'position_10':position_wise_frequency_negative[9],'position_11':position_wise_frequency_negative[10],'position_12':position_wise_frequency_negative[11],'position_13':position_wise_frequency_negative[12],'position_14':position_wise_frequency_negative[13],'position_15':position_wise_frequency_negative[14],'position_16':position_wise_frequency_negative[15],\n",
        "                        'position_17':position_wise_frequency_negative[16],'position_18':position_wise_frequency_negative[17],'position_19':position_wise_frequency_negative[18],'position_20':position_wise_frequency_negative[19]}, \n",
        "                ignore_index = True)\n",
        "df_psdp=pd.DataFrame(columns=['position_1','position_2','position_3','position_4','position_5','position_6','position_7','position_8',\n",
        "                        'position_9','position_10','position_11','position_12','position_13','position_14','position_15','position_16',\n",
        "                        'position_17','position_18','position_19','position_20'])\n",
        "df_psdp_final=df_psdp_neg.subtract(df_psdp_pos)"
      ]
    },
    {
      "cell_type": "code",
      "execution_count": null,
      "metadata": {
        "id": "BFT6K3_5wXOw"
      },
      "outputs": [],
      "source": [
        "#df_psdp_final"
      ]
    },
    {
      "cell_type": "code",
      "execution_count": null,
      "metadata": {
        "id": "1cPiiS3ZbJxT"
      },
      "outputs": [],
      "source": [
        "#x"
      ]
    },
    {
      "cell_type": "code",
      "execution_count": null,
      "metadata": {
        "id": "8kCWl1wgYisJ"
      },
      "outputs": [],
      "source": [
        "x_psdp=x.copy()\n",
        "df_psdp = x.copy()"
      ]
    },
    {
      "cell_type": "code",
      "execution_count": null,
      "metadata": {
        "id": "8QOA6sV0Y2fZ"
      },
      "outputs": [],
      "source": [
        "#x_psdp"
      ]
    },
    {
      "cell_type": "code",
      "execution_count": null,
      "metadata": {
        "id": "8Ye2chYaYkZE"
      },
      "outputs": [],
      "source": [
        "#applying psdp to the dataset given\n",
        "for i in range(990):\n",
        "    for j in range(20):\n",
        "        if ((x_psdp.iloc[i,j+1]+x_psdp.iloc[i,j+2])=='AA'):\n",
        "            df_psdp.iloc[i,j+1]=df_psdp_final.iloc[0,j]\n",
        "        elif ((x_psdp.iloc[i,j+1]+x_psdp.iloc[i,j+2])=='AC'):\n",
        "            df_psdp.iloc[i,j+1]=df_psdp_final.iloc[1,j]\n",
        "        elif ((x_psdp.iloc[i,j+1]+x_psdp.iloc[i,j+2])=='AG'):\n",
        "            df_psdp.iloc[i,j+1]=df_psdp_final.iloc[2,j]\n",
        "        elif ((x_psdp.iloc[i,j+1]+x_psdp.iloc[i,j+2])=='AU'):\n",
        "            df_psdp.iloc[i,j+1]=df_psdp_final.iloc[3,j]\n",
        "        elif ((x_psdp.iloc[i,j+1]+x_psdp.iloc[i,j+2])=='CA'):\n",
        "            df_psdp.iloc[i,j+1]=df_psdp_final.iloc[4,j]\n",
        "        elif ((x_psdp.iloc[i,j+1]+x_psdp.iloc[i,j+2])=='CC'):\n",
        "            df_psdp.iloc[i,j+1]=df_psdp_final.iloc[5,j]\n",
        "        elif ((x_psdp.iloc[i,j+1]+x_psdp.iloc[i,j+2])=='CG'):\n",
        "            df_psdp.iloc[i,j+1]=df_psdp_final.iloc[6,j]\n",
        "        elif ((x_psdp.iloc[i,j+1]+x_psdp.iloc[i,j+2])=='CU'):\n",
        "            df_psdp.iloc[i,j+1]=df_psdp_final.iloc[7,j]\n",
        "        elif ((x_psdp.iloc[i,j+1]+x_psdp.iloc[i,j+2])=='GA'):\n",
        "            df_psdp.iloc[i,j+1]=df_psdp_final.iloc[8,j]\n",
        "        elif ((x_psdp.iloc[i,j+1]+x_psdp.iloc[i,j+2])=='GC'):\n",
        "            df_psdp.iloc[i,j+1]=df_psdp_final.iloc[9,j]\n",
        "        elif ((x_psdp.iloc[i,j+1]+x_psdp.iloc[i,j+2])=='GG'):\n",
        "            df_psdp.iloc[i,j+1]=df_psdp_final.iloc[10,j]\n",
        "        elif ((x_psdp.iloc[i,j+1]+x_psdp.iloc[i,j+2])=='GU'):\n",
        "            df_psdp.iloc[i,j+1]=df_psdp_final.iloc[11,j]\n",
        "        elif ((x_psdp.iloc[i,j+1]+x_psdp.iloc[i,j+2])=='UA'):\n",
        "            df_psdp.iloc[i,j+1]=df_psdp_final.iloc[12,j]\n",
        "        elif ((x_psdp.iloc[i,j+1]+x_psdp.iloc[i,j+2])=='UC'):\n",
        "            df_psdp.iloc[i,j+1]=df_psdp_final.iloc[13,j]\n",
        "        elif ((x_psdp.iloc[i,j+1]+x_psdp.iloc[i,j+2])=='UG'):\n",
        "            df_psdp.iloc[i,j+1]=df_psdp_final.iloc[14,j]\n",
        "        elif ((x_psdp.iloc[i,j+1]+x_psdp.iloc[i,j+2])=='UU'):\n",
        "            df_psdp.iloc[i,j+1]=df_psdp_final.iloc[15,j]"
      ]
    },
    {
      "cell_type": "code",
      "execution_count": null,
      "metadata": {
        "id": "t6XPW_zui3mR"
      },
      "outputs": [],
      "source": [
        "del df_psdp['21']"
      ]
    },
    {
      "cell_type": "code",
      "execution_count": null,
      "metadata": {
        "id": "Ls8NZRgZjTnx"
      },
      "outputs": [],
      "source": [
        "#df_psdp"
      ]
    },
    {
      "cell_type": "code",
      "execution_count": null,
      "metadata": {
        "id": "Gpjr3UtLm3pG"
      },
      "outputs": [],
      "source": [
        "#df"
      ]
    },
    {
      "cell_type": "code",
      "execution_count": null,
      "metadata": {
        "id": "5pkVuY8_-VPJ"
      },
      "outputs": [],
      "source": [
        "data = pd.concat([df,df_pnsp_applied,df_psdp],axis =1, sort = False)"
      ]
    },
    {
      "cell_type": "code",
      "execution_count": null,
      "metadata": {
        "colab": {
          "base_uri": "https://localhost:8080/"
        },
        "id": "IkGkF3jk-VTn",
        "outputId": "bf9a46a4-63fc-4eab-b914-e35b2964fcc5"
      },
      "outputs": [
        {
          "output_type": "execute_result",
          "data": {
            "text/plain": [
              "False"
            ]
          },
          "metadata": {},
          "execution_count": 24
        }
      ],
      "source": [
        "#Check for nan values\n",
        "check_nan = df.isnull().values.any()\n",
        "check_nan"
      ]
    },
    {
      "cell_type": "code",
      "execution_count": null,
      "metadata": {
        "colab": {
          "base_uri": "https://localhost:8080/",
          "height": 488
        },
        "id": "yZTOBl4Sk943",
        "outputId": "25292612-1fac-47be-fd24-3653cf94c8b8"
      },
      "outputs": [
        {
          "output_type": "execute_result",
          "data": {
            "text/plain": [
              "    Class                Aligned    GG    GA    GC    GU    AG    AA    AC  \\\n",
              "0       1  GAUAAAAGAGUUACUUUGAUA  0.15  0.05   0.1   0.1   0.0   0.0   0.0   \n",
              "1       1  AAAUAAGCUAUCGGGCCCAUA  0.15   0.0  0.05  0.15  0.05   0.1  0.05   \n",
              "2       1  CCCGAAAAUGUUGGUUAUAUC  0.15   0.0   0.0  0.15   0.0   0.1  0.05   \n",
              "3       1  UAACUUAGCAUUAACCUUUUA   0.1   0.1  0.05  0.05  0.05  0.05   0.0   \n",
              "4       1  UGGUGUCUGCUACCAUGAGUG   0.0  0.05  0.05  0.05  0.05  0.05   0.0   \n",
              "..    ...                    ...   ...   ...   ...   ...   ...   ...   ...   \n",
              "985     0  UGGGGAAGGGUUGUUUCUCAG  0.05   0.0   0.1   0.0  0.05   0.0   0.0   \n",
              "986     0  UCAAGGGGGGUUAGUAGAAAU  0.15   0.0  0.15  0.05  0.05   0.0   0.0   \n",
              "987     0  CUAUGACAAAUUAGUUGGACA   0.1   0.1  0.05   0.1   0.1   0.0   0.0   \n",
              "988     0  UGUCAGGGACUUAAGUUUUAC  0.05   0.1   0.1   0.0  0.05   0.0   0.0   \n",
              "989     0  ACAGGAAGAAUUGAGUCACAC   0.1  0.15  0.15  0.05  0.15   0.0   0.0   \n",
              "\n",
              "       AU  ...        11        12        13        14        15        16  \\\n",
              "0    0.05  ... -0.074747 -0.014141   0.00404 -0.016162   0.00202  0.024242   \n",
              "1    0.05  ...  0.066667 -0.014141 -0.012121  -0.00202   0.00404   0.00202   \n",
              "2     0.0  ... -0.074747  0.018182 -0.012121 -0.024242   0.00202  0.006061   \n",
              "3     0.1  ... -0.074747 -0.014141  0.036364 -0.018182 -0.024242  -0.00404   \n",
              "4     0.1  ...  -0.10101 -0.048485 -0.010101  0.006061 -0.008081 -0.014141   \n",
              "..    ...  ...       ...       ...       ...       ...       ...       ...   \n",
              "985  0.05  ... -0.074747  0.018182  0.020202  0.024242   0.00202 -0.024242   \n",
              "986   0.0  ... -0.074747 -0.014141  -0.00202 -0.024242  0.014141  0.014141   \n",
              "987  0.05  ... -0.074747 -0.014141  -0.00202 -0.024242   0.00202 -0.014141   \n",
              "988  0.05  ... -0.074747 -0.014141  0.036364   0.00202 -0.008081  0.024242   \n",
              "989   0.0  ... -0.074747  0.018182  0.018182   0.00202 -0.008081 -0.024242   \n",
              "\n",
              "           17        18        19        20  \n",
              "0   -0.016162  0.006061  0.022222 -0.010101  \n",
              "1   -0.044444 -0.026263  0.022222 -0.010101  \n",
              "2    0.010101  0.026263  0.022222  0.006061  \n",
              "3    0.014141  0.030303  0.012121 -0.010101  \n",
              "4     0.00202  -0.00404 -0.036364  0.006061  \n",
              "..        ...       ...       ...       ...  \n",
              "985  0.012121  -0.00404  0.012121  -0.00404  \n",
              "986   0.00202  0.034343  0.028283  0.008081  \n",
              "987 -0.010101  0.006061 -0.014141 -0.018182  \n",
              "988  0.014141  0.030303  0.006061  0.012121  \n",
              "989  0.018182   0.00202  0.012121  0.012121  \n",
              "\n",
              "[990 rows x 84 columns]"
            ],
            "text/html": [
              "\n",
              "  <div id=\"df-bc5c7f5a-168c-4b26-98e1-5863c60c0f89\">\n",
              "    <div class=\"colab-df-container\">\n",
              "      <div>\n",
              "<style scoped>\n",
              "    .dataframe tbody tr th:only-of-type {\n",
              "        vertical-align: middle;\n",
              "    }\n",
              "\n",
              "    .dataframe tbody tr th {\n",
              "        vertical-align: top;\n",
              "    }\n",
              "\n",
              "    .dataframe thead th {\n",
              "        text-align: right;\n",
              "    }\n",
              "</style>\n",
              "<table border=\"1\" class=\"dataframe\">\n",
              "  <thead>\n",
              "    <tr style=\"text-align: right;\">\n",
              "      <th></th>\n",
              "      <th>Class</th>\n",
              "      <th>Aligned</th>\n",
              "      <th>GG</th>\n",
              "      <th>GA</th>\n",
              "      <th>GC</th>\n",
              "      <th>GU</th>\n",
              "      <th>AG</th>\n",
              "      <th>AA</th>\n",
              "      <th>AC</th>\n",
              "      <th>AU</th>\n",
              "      <th>...</th>\n",
              "      <th>11</th>\n",
              "      <th>12</th>\n",
              "      <th>13</th>\n",
              "      <th>14</th>\n",
              "      <th>15</th>\n",
              "      <th>16</th>\n",
              "      <th>17</th>\n",
              "      <th>18</th>\n",
              "      <th>19</th>\n",
              "      <th>20</th>\n",
              "    </tr>\n",
              "  </thead>\n",
              "  <tbody>\n",
              "    <tr>\n",
              "      <th>0</th>\n",
              "      <td>1</td>\n",
              "      <td>GAUAAAAGAGUUACUUUGAUA</td>\n",
              "      <td>0.15</td>\n",
              "      <td>0.05</td>\n",
              "      <td>0.1</td>\n",
              "      <td>0.1</td>\n",
              "      <td>0.0</td>\n",
              "      <td>0.0</td>\n",
              "      <td>0.0</td>\n",
              "      <td>0.05</td>\n",
              "      <td>...</td>\n",
              "      <td>-0.074747</td>\n",
              "      <td>-0.014141</td>\n",
              "      <td>0.00404</td>\n",
              "      <td>-0.016162</td>\n",
              "      <td>0.00202</td>\n",
              "      <td>0.024242</td>\n",
              "      <td>-0.016162</td>\n",
              "      <td>0.006061</td>\n",
              "      <td>0.022222</td>\n",
              "      <td>-0.010101</td>\n",
              "    </tr>\n",
              "    <tr>\n",
              "      <th>1</th>\n",
              "      <td>1</td>\n",
              "      <td>AAAUAAGCUAUCGGGCCCAUA</td>\n",
              "      <td>0.15</td>\n",
              "      <td>0.0</td>\n",
              "      <td>0.05</td>\n",
              "      <td>0.15</td>\n",
              "      <td>0.05</td>\n",
              "      <td>0.1</td>\n",
              "      <td>0.05</td>\n",
              "      <td>0.05</td>\n",
              "      <td>...</td>\n",
              "      <td>0.066667</td>\n",
              "      <td>-0.014141</td>\n",
              "      <td>-0.012121</td>\n",
              "      <td>-0.00202</td>\n",
              "      <td>0.00404</td>\n",
              "      <td>0.00202</td>\n",
              "      <td>-0.044444</td>\n",
              "      <td>-0.026263</td>\n",
              "      <td>0.022222</td>\n",
              "      <td>-0.010101</td>\n",
              "    </tr>\n",
              "    <tr>\n",
              "      <th>2</th>\n",
              "      <td>1</td>\n",
              "      <td>CCCGAAAAUGUUGGUUAUAUC</td>\n",
              "      <td>0.15</td>\n",
              "      <td>0.0</td>\n",
              "      <td>0.0</td>\n",
              "      <td>0.15</td>\n",
              "      <td>0.0</td>\n",
              "      <td>0.1</td>\n",
              "      <td>0.05</td>\n",
              "      <td>0.0</td>\n",
              "      <td>...</td>\n",
              "      <td>-0.074747</td>\n",
              "      <td>0.018182</td>\n",
              "      <td>-0.012121</td>\n",
              "      <td>-0.024242</td>\n",
              "      <td>0.00202</td>\n",
              "      <td>0.006061</td>\n",
              "      <td>0.010101</td>\n",
              "      <td>0.026263</td>\n",
              "      <td>0.022222</td>\n",
              "      <td>0.006061</td>\n",
              "    </tr>\n",
              "    <tr>\n",
              "      <th>3</th>\n",
              "      <td>1</td>\n",
              "      <td>UAACUUAGCAUUAACCUUUUA</td>\n",
              "      <td>0.1</td>\n",
              "      <td>0.1</td>\n",
              "      <td>0.05</td>\n",
              "      <td>0.05</td>\n",
              "      <td>0.05</td>\n",
              "      <td>0.05</td>\n",
              "      <td>0.0</td>\n",
              "      <td>0.1</td>\n",
              "      <td>...</td>\n",
              "      <td>-0.074747</td>\n",
              "      <td>-0.014141</td>\n",
              "      <td>0.036364</td>\n",
              "      <td>-0.018182</td>\n",
              "      <td>-0.024242</td>\n",
              "      <td>-0.00404</td>\n",
              "      <td>0.014141</td>\n",
              "      <td>0.030303</td>\n",
              "      <td>0.012121</td>\n",
              "      <td>-0.010101</td>\n",
              "    </tr>\n",
              "    <tr>\n",
              "      <th>4</th>\n",
              "      <td>1</td>\n",
              "      <td>UGGUGUCUGCUACCAUGAGUG</td>\n",
              "      <td>0.0</td>\n",
              "      <td>0.05</td>\n",
              "      <td>0.05</td>\n",
              "      <td>0.05</td>\n",
              "      <td>0.05</td>\n",
              "      <td>0.05</td>\n",
              "      <td>0.0</td>\n",
              "      <td>0.1</td>\n",
              "      <td>...</td>\n",
              "      <td>-0.10101</td>\n",
              "      <td>-0.048485</td>\n",
              "      <td>-0.010101</td>\n",
              "      <td>0.006061</td>\n",
              "      <td>-0.008081</td>\n",
              "      <td>-0.014141</td>\n",
              "      <td>0.00202</td>\n",
              "      <td>-0.00404</td>\n",
              "      <td>-0.036364</td>\n",
              "      <td>0.006061</td>\n",
              "    </tr>\n",
              "    <tr>\n",
              "      <th>...</th>\n",
              "      <td>...</td>\n",
              "      <td>...</td>\n",
              "      <td>...</td>\n",
              "      <td>...</td>\n",
              "      <td>...</td>\n",
              "      <td>...</td>\n",
              "      <td>...</td>\n",
              "      <td>...</td>\n",
              "      <td>...</td>\n",
              "      <td>...</td>\n",
              "      <td>...</td>\n",
              "      <td>...</td>\n",
              "      <td>...</td>\n",
              "      <td>...</td>\n",
              "      <td>...</td>\n",
              "      <td>...</td>\n",
              "      <td>...</td>\n",
              "      <td>...</td>\n",
              "      <td>...</td>\n",
              "      <td>...</td>\n",
              "      <td>...</td>\n",
              "    </tr>\n",
              "    <tr>\n",
              "      <th>985</th>\n",
              "      <td>0</td>\n",
              "      <td>UGGGGAAGGGUUGUUUCUCAG</td>\n",
              "      <td>0.05</td>\n",
              "      <td>0.0</td>\n",
              "      <td>0.1</td>\n",
              "      <td>0.0</td>\n",
              "      <td>0.05</td>\n",
              "      <td>0.0</td>\n",
              "      <td>0.0</td>\n",
              "      <td>0.05</td>\n",
              "      <td>...</td>\n",
              "      <td>-0.074747</td>\n",
              "      <td>0.018182</td>\n",
              "      <td>0.020202</td>\n",
              "      <td>0.024242</td>\n",
              "      <td>0.00202</td>\n",
              "      <td>-0.024242</td>\n",
              "      <td>0.012121</td>\n",
              "      <td>-0.00404</td>\n",
              "      <td>0.012121</td>\n",
              "      <td>-0.00404</td>\n",
              "    </tr>\n",
              "    <tr>\n",
              "      <th>986</th>\n",
              "      <td>0</td>\n",
              "      <td>UCAAGGGGGGUUAGUAGAAAU</td>\n",
              "      <td>0.15</td>\n",
              "      <td>0.0</td>\n",
              "      <td>0.15</td>\n",
              "      <td>0.05</td>\n",
              "      <td>0.05</td>\n",
              "      <td>0.0</td>\n",
              "      <td>0.0</td>\n",
              "      <td>0.0</td>\n",
              "      <td>...</td>\n",
              "      <td>-0.074747</td>\n",
              "      <td>-0.014141</td>\n",
              "      <td>-0.00202</td>\n",
              "      <td>-0.024242</td>\n",
              "      <td>0.014141</td>\n",
              "      <td>0.014141</td>\n",
              "      <td>0.00202</td>\n",
              "      <td>0.034343</td>\n",
              "      <td>0.028283</td>\n",
              "      <td>0.008081</td>\n",
              "    </tr>\n",
              "    <tr>\n",
              "      <th>987</th>\n",
              "      <td>0</td>\n",
              "      <td>CUAUGACAAAUUAGUUGGACA</td>\n",
              "      <td>0.1</td>\n",
              "      <td>0.1</td>\n",
              "      <td>0.05</td>\n",
              "      <td>0.1</td>\n",
              "      <td>0.1</td>\n",
              "      <td>0.0</td>\n",
              "      <td>0.0</td>\n",
              "      <td>0.05</td>\n",
              "      <td>...</td>\n",
              "      <td>-0.074747</td>\n",
              "      <td>-0.014141</td>\n",
              "      <td>-0.00202</td>\n",
              "      <td>-0.024242</td>\n",
              "      <td>0.00202</td>\n",
              "      <td>-0.014141</td>\n",
              "      <td>-0.010101</td>\n",
              "      <td>0.006061</td>\n",
              "      <td>-0.014141</td>\n",
              "      <td>-0.018182</td>\n",
              "    </tr>\n",
              "    <tr>\n",
              "      <th>988</th>\n",
              "      <td>0</td>\n",
              "      <td>UGUCAGGGACUUAAGUUUUAC</td>\n",
              "      <td>0.05</td>\n",
              "      <td>0.1</td>\n",
              "      <td>0.1</td>\n",
              "      <td>0.0</td>\n",
              "      <td>0.05</td>\n",
              "      <td>0.0</td>\n",
              "      <td>0.0</td>\n",
              "      <td>0.05</td>\n",
              "      <td>...</td>\n",
              "      <td>-0.074747</td>\n",
              "      <td>-0.014141</td>\n",
              "      <td>0.036364</td>\n",
              "      <td>0.00202</td>\n",
              "      <td>-0.008081</td>\n",
              "      <td>0.024242</td>\n",
              "      <td>0.014141</td>\n",
              "      <td>0.030303</td>\n",
              "      <td>0.006061</td>\n",
              "      <td>0.012121</td>\n",
              "    </tr>\n",
              "    <tr>\n",
              "      <th>989</th>\n",
              "      <td>0</td>\n",
              "      <td>ACAGGAAGAAUUGAGUCACAC</td>\n",
              "      <td>0.1</td>\n",
              "      <td>0.15</td>\n",
              "      <td>0.15</td>\n",
              "      <td>0.05</td>\n",
              "      <td>0.15</td>\n",
              "      <td>0.0</td>\n",
              "      <td>0.0</td>\n",
              "      <td>0.0</td>\n",
              "      <td>...</td>\n",
              "      <td>-0.074747</td>\n",
              "      <td>0.018182</td>\n",
              "      <td>0.018182</td>\n",
              "      <td>0.00202</td>\n",
              "      <td>-0.008081</td>\n",
              "      <td>-0.024242</td>\n",
              "      <td>0.018182</td>\n",
              "      <td>0.00202</td>\n",
              "      <td>0.012121</td>\n",
              "      <td>0.012121</td>\n",
              "    </tr>\n",
              "  </tbody>\n",
              "</table>\n",
              "<p>990 rows × 84 columns</p>\n",
              "</div>\n",
              "      <button class=\"colab-df-convert\" onclick=\"convertToInteractive('df-bc5c7f5a-168c-4b26-98e1-5863c60c0f89')\"\n",
              "              title=\"Convert this dataframe to an interactive table.\"\n",
              "              style=\"display:none;\">\n",
              "        \n",
              "  <svg xmlns=\"http://www.w3.org/2000/svg\" height=\"24px\"viewBox=\"0 0 24 24\"\n",
              "       width=\"24px\">\n",
              "    <path d=\"M0 0h24v24H0V0z\" fill=\"none\"/>\n",
              "    <path d=\"M18.56 5.44l.94 2.06.94-2.06 2.06-.94-2.06-.94-.94-2.06-.94 2.06-2.06.94zm-11 1L8.5 8.5l.94-2.06 2.06-.94-2.06-.94L8.5 2.5l-.94 2.06-2.06.94zm10 10l.94 2.06.94-2.06 2.06-.94-2.06-.94-.94-2.06-.94 2.06-2.06.94z\"/><path d=\"M17.41 7.96l-1.37-1.37c-.4-.4-.92-.59-1.43-.59-.52 0-1.04.2-1.43.59L10.3 9.45l-7.72 7.72c-.78.78-.78 2.05 0 2.83L4 21.41c.39.39.9.59 1.41.59.51 0 1.02-.2 1.41-.59l7.78-7.78 2.81-2.81c.8-.78.8-2.07 0-2.86zM5.41 20L4 18.59l7.72-7.72 1.47 1.35L5.41 20z\"/>\n",
              "  </svg>\n",
              "      </button>\n",
              "      \n",
              "  <style>\n",
              "    .colab-df-container {\n",
              "      display:flex;\n",
              "      flex-wrap:wrap;\n",
              "      gap: 12px;\n",
              "    }\n",
              "\n",
              "    .colab-df-convert {\n",
              "      background-color: #E8F0FE;\n",
              "      border: none;\n",
              "      border-radius: 50%;\n",
              "      cursor: pointer;\n",
              "      display: none;\n",
              "      fill: #1967D2;\n",
              "      height: 32px;\n",
              "      padding: 0 0 0 0;\n",
              "      width: 32px;\n",
              "    }\n",
              "\n",
              "    .colab-df-convert:hover {\n",
              "      background-color: #E2EBFA;\n",
              "      box-shadow: 0px 1px 2px rgba(60, 64, 67, 0.3), 0px 1px 3px 1px rgba(60, 64, 67, 0.15);\n",
              "      fill: #174EA6;\n",
              "    }\n",
              "\n",
              "    [theme=dark] .colab-df-convert {\n",
              "      background-color: #3B4455;\n",
              "      fill: #D2E3FC;\n",
              "    }\n",
              "\n",
              "    [theme=dark] .colab-df-convert:hover {\n",
              "      background-color: #434B5C;\n",
              "      box-shadow: 0px 1px 3px 1px rgba(0, 0, 0, 0.15);\n",
              "      filter: drop-shadow(0px 1px 2px rgba(0, 0, 0, 0.3));\n",
              "      fill: #FFFFFF;\n",
              "    }\n",
              "  </style>\n",
              "\n",
              "      <script>\n",
              "        const buttonEl =\n",
              "          document.querySelector('#df-bc5c7f5a-168c-4b26-98e1-5863c60c0f89 button.colab-df-convert');\n",
              "        buttonEl.style.display =\n",
              "          google.colab.kernel.accessAllowed ? 'block' : 'none';\n",
              "\n",
              "        async function convertToInteractive(key) {\n",
              "          const element = document.querySelector('#df-bc5c7f5a-168c-4b26-98e1-5863c60c0f89');\n",
              "          const dataTable =\n",
              "            await google.colab.kernel.invokeFunction('convertToInteractive',\n",
              "                                                     [key], {});\n",
              "          if (!dataTable) return;\n",
              "\n",
              "          const docLinkHtml = 'Like what you see? Visit the ' +\n",
              "            '<a target=\"_blank\" href=https://colab.research.google.com/notebooks/data_table.ipynb>data table notebook</a>'\n",
              "            + ' to learn more about interactive tables.';\n",
              "          element.innerHTML = '';\n",
              "          dataTable['output_type'] = 'display_data';\n",
              "          await google.colab.output.renderOutput(dataTable, element);\n",
              "          const docLink = document.createElement('div');\n",
              "          docLink.innerHTML = docLinkHtml;\n",
              "          element.appendChild(docLink);\n",
              "        }\n",
              "      </script>\n",
              "    </div>\n",
              "  </div>\n",
              "  "
            ]
          },
          "metadata": {},
          "execution_count": 25
        }
      ],
      "source": [
        "first_column = data.pop('Class')\n",
        "data.insert(0, 'Class', first_column)\n",
        "data = data.T.drop_duplicates().T\n",
        "data"
      ]
    },
    {
      "cell_type": "markdown",
      "metadata": {
        "id": "QRj7E6w8s9QP"
      },
      "source": [
        "#Training"
      ]
    },
    {
      "cell_type": "code",
      "execution_count": null,
      "metadata": {
        "id": "wJ6EC9_5Saaw"
      },
      "outputs": [],
      "source": [
        "from sklearn.model_selection import train_test_split\n",
        "from sklearn.preprocessing import MinMaxScaler"
      ]
    },
    {
      "cell_type": "code",
      "execution_count": null,
      "metadata": {
        "id": "FoxzPb5ZUiZQ"
      },
      "outputs": [],
      "source": [
        "X = df.drop(['Class', 'Aligned'],axis=1)\n",
        "y = df['Class']"
      ]
    },
    {
      "cell_type": "code",
      "execution_count": null,
      "metadata": {
        "id": "kZMyUeLqUrUu"
      },
      "outputs": [],
      "source": [
        "X_train,X_test,y_train,y_test = train_test_split(X,y,test_size=0.3,stratify=y,random_state=1)"
      ]
    },
    {
      "cell_type": "code",
      "execution_count": null,
      "metadata": {
        "id": "hNjk2pR4nY8U"
      },
      "outputs": [],
      "source": [
        "numeric_cols = X_train.select_dtypes(include=np.number).columns.tolist()\n",
        "categorical_cols = X_train.select_dtypes('object').columns.tolist()"
      ]
    },
    {
      "cell_type": "code",
      "execution_count": null,
      "metadata": {
        "colab": {
          "base_uri": "https://localhost:8080/"
        },
        "id": "Y6vtvfMLnY-s",
        "outputId": "4d8a692e-0e59-49ec-b481-adfdb92abcc9"
      },
      "outputs": [
        {
          "output_type": "stream",
          "name": "stdout",
          "text": [
            "['1', '2', '3', '4', '5', '6', '7', '8', '9', '10', '11', '12', '13', '14', '15', '16', '17', '18', '19', '20', '21']\n"
          ]
        }
      ],
      "source": [
        "print(categorical_cols)"
      ]
    },
    {
      "cell_type": "code",
      "execution_count": null,
      "metadata": {
        "id": "YoaN_6_znZBK"
      },
      "outputs": [],
      "source": [
        "from sklearn.preprocessing import OneHotEncoder"
      ]
    },
    {
      "cell_type": "code",
      "execution_count": null,
      "metadata": {
        "id": "pWOLzOaKnZDh"
      },
      "outputs": [],
      "source": [
        "encoder = OneHotEncoder(sparse=False, handle_unknown='ignore').fit(df[categorical_cols])"
      ]
    },
    {
      "cell_type": "code",
      "execution_count": null,
      "metadata": {
        "colab": {
          "base_uri": "https://localhost:8080/"
        },
        "id": "l7La50ItnZFa",
        "outputId": "d1aea382-3898-4bd9-a081-ee9c5cbcf361"
      },
      "outputs": [
        {
          "output_type": "stream",
          "name": "stderr",
          "text": [
            "/usr/local/lib/python3.7/dist-packages/sklearn/utils/deprecation.py:87: FutureWarning: Function get_feature_names is deprecated; get_feature_names is deprecated in 1.0 and will be removed in 1.2. Please use get_feature_names_out instead.\n",
            "  warnings.warn(msg, category=FutureWarning)\n"
          ]
        }
      ],
      "source": [
        "encoded_cols = list(encoder.get_feature_names(categorical_cols))"
      ]
    },
    {
      "cell_type": "code",
      "execution_count": null,
      "metadata": {
        "id": "CWlFxleLnZJE"
      },
      "outputs": [],
      "source": [
        "X_train[encoded_cols] = encoder.transform(X_train[categorical_cols])\n",
        "X_test[encoded_cols] = encoder.transform(X_test[categorical_cols])"
      ]
    },
    {
      "cell_type": "code",
      "execution_count": null,
      "metadata": {
        "id": "mXHj0Smnsp2r"
      },
      "outputs": [],
      "source": [
        "X_train = X_train[numeric_cols + encoded_cols]\n",
        "X_test = X_test[numeric_cols + encoded_cols]"
      ]
    },
    {
      "cell_type": "code",
      "source": [
        "X_train"
      ],
      "metadata": {
        "colab": {
          "base_uri": "https://localhost:8080/",
          "height": 424
        },
        "id": "tpWmwjKaDpJn",
        "outputId": "7fc66b66-f38e-412d-f956-d8c03029d781"
      },
      "execution_count": null,
      "outputs": [
        {
          "output_type": "execute_result",
          "data": {
            "text/plain": [
              "       GG    GA    GC    GU    AG    AA    AC    AU    CG    CA  ...  19_G  \\\n",
              "99   0.00  0.00  0.05  0.15  0.00  0.00  0.00  0.00  0.15  0.00  ...   1.0   \n",
              "558  0.00  0.00  0.00  0.20  0.10  0.00  0.00  0.05  0.05  0.05  ...   0.0   \n",
              "110  0.15  0.05  0.10  0.05  0.15  0.00  0.00  0.00  0.05  0.00  ...   0.0   \n",
              "15   0.05  0.00  0.20  0.05  0.00  0.00  0.00  0.05  0.15  0.05  ...   1.0   \n",
              "924  0.30  0.05  0.15  0.10  0.05  0.15  0.00  0.00  0.10  0.00  ...   0.0   \n",
              "..    ...   ...   ...   ...   ...   ...   ...   ...   ...   ...  ...   ...   \n",
              "594  0.35  0.00  0.05  0.10  0.00  0.00  0.00  0.00  0.10  0.00  ...   0.0   \n",
              "587  0.00  0.05  0.05  0.00  0.05  0.15  0.05  0.15  0.05  0.05  ...   0.0   \n",
              "124  0.15  0.10  0.10  0.05  0.10  0.05  0.00  0.05  0.00  0.00  ...   0.0   \n",
              "292  0.15  0.05  0.05  0.10  0.05  0.00  0.00  0.05  0.05  0.05  ...   1.0   \n",
              "856  0.00  0.05  0.05  0.10  0.05  0.00  0.00  0.00  0.05  0.00  ...   1.0   \n",
              "\n",
              "     19_U  20_A  20_C  20_G  20_U  21_A  21_C  21_G  21_U  \n",
              "99    0.0   1.0   0.0   0.0   0.0   0.0   0.0   1.0   0.0  \n",
              "558   0.0   0.0   0.0   0.0   1.0   0.0   0.0   0.0   1.0  \n",
              "110   1.0   0.0   0.0   0.0   1.0   0.0   0.0   0.0   1.0  \n",
              "15    0.0   0.0   0.0   0.0   1.0   0.0   0.0   1.0   0.0  \n",
              "924   0.0   1.0   0.0   0.0   0.0   0.0   0.0   1.0   0.0  \n",
              "..    ...   ...   ...   ...   ...   ...   ...   ...   ...  \n",
              "594   0.0   0.0   0.0   1.0   0.0   1.0   0.0   0.0   0.0  \n",
              "587   0.0   0.0   0.0   0.0   1.0   0.0   0.0   1.0   0.0  \n",
              "124   1.0   0.0   1.0   0.0   0.0   0.0   1.0   0.0   0.0  \n",
              "292   0.0   0.0   1.0   0.0   0.0   0.0   0.0   0.0   1.0  \n",
              "856   0.0   0.0   0.0   1.0   0.0   0.0   0.0   0.0   1.0  \n",
              "\n",
              "[693 rows x 101 columns]"
            ],
            "text/html": [
              "\n",
              "  <div id=\"df-83c2e444-c0fa-4741-bdac-0e704a622124\">\n",
              "    <div class=\"colab-df-container\">\n",
              "      <div>\n",
              "<style scoped>\n",
              "    .dataframe tbody tr th:only-of-type {\n",
              "        vertical-align: middle;\n",
              "    }\n",
              "\n",
              "    .dataframe tbody tr th {\n",
              "        vertical-align: top;\n",
              "    }\n",
              "\n",
              "    .dataframe thead th {\n",
              "        text-align: right;\n",
              "    }\n",
              "</style>\n",
              "<table border=\"1\" class=\"dataframe\">\n",
              "  <thead>\n",
              "    <tr style=\"text-align: right;\">\n",
              "      <th></th>\n",
              "      <th>GG</th>\n",
              "      <th>GA</th>\n",
              "      <th>GC</th>\n",
              "      <th>GU</th>\n",
              "      <th>AG</th>\n",
              "      <th>AA</th>\n",
              "      <th>AC</th>\n",
              "      <th>AU</th>\n",
              "      <th>CG</th>\n",
              "      <th>CA</th>\n",
              "      <th>...</th>\n",
              "      <th>19_G</th>\n",
              "      <th>19_U</th>\n",
              "      <th>20_A</th>\n",
              "      <th>20_C</th>\n",
              "      <th>20_G</th>\n",
              "      <th>20_U</th>\n",
              "      <th>21_A</th>\n",
              "      <th>21_C</th>\n",
              "      <th>21_G</th>\n",
              "      <th>21_U</th>\n",
              "    </tr>\n",
              "  </thead>\n",
              "  <tbody>\n",
              "    <tr>\n",
              "      <th>99</th>\n",
              "      <td>0.00</td>\n",
              "      <td>0.00</td>\n",
              "      <td>0.05</td>\n",
              "      <td>0.15</td>\n",
              "      <td>0.00</td>\n",
              "      <td>0.00</td>\n",
              "      <td>0.00</td>\n",
              "      <td>0.00</td>\n",
              "      <td>0.15</td>\n",
              "      <td>0.00</td>\n",
              "      <td>...</td>\n",
              "      <td>1.0</td>\n",
              "      <td>0.0</td>\n",
              "      <td>1.0</td>\n",
              "      <td>0.0</td>\n",
              "      <td>0.0</td>\n",
              "      <td>0.0</td>\n",
              "      <td>0.0</td>\n",
              "      <td>0.0</td>\n",
              "      <td>1.0</td>\n",
              "      <td>0.0</td>\n",
              "    </tr>\n",
              "    <tr>\n",
              "      <th>558</th>\n",
              "      <td>0.00</td>\n",
              "      <td>0.00</td>\n",
              "      <td>0.00</td>\n",
              "      <td>0.20</td>\n",
              "      <td>0.10</td>\n",
              "      <td>0.00</td>\n",
              "      <td>0.00</td>\n",
              "      <td>0.05</td>\n",
              "      <td>0.05</td>\n",
              "      <td>0.05</td>\n",
              "      <td>...</td>\n",
              "      <td>0.0</td>\n",
              "      <td>0.0</td>\n",
              "      <td>0.0</td>\n",
              "      <td>0.0</td>\n",
              "      <td>0.0</td>\n",
              "      <td>1.0</td>\n",
              "      <td>0.0</td>\n",
              "      <td>0.0</td>\n",
              "      <td>0.0</td>\n",
              "      <td>1.0</td>\n",
              "    </tr>\n",
              "    <tr>\n",
              "      <th>110</th>\n",
              "      <td>0.15</td>\n",
              "      <td>0.05</td>\n",
              "      <td>0.10</td>\n",
              "      <td>0.05</td>\n",
              "      <td>0.15</td>\n",
              "      <td>0.00</td>\n",
              "      <td>0.00</td>\n",
              "      <td>0.00</td>\n",
              "      <td>0.05</td>\n",
              "      <td>0.00</td>\n",
              "      <td>...</td>\n",
              "      <td>0.0</td>\n",
              "      <td>1.0</td>\n",
              "      <td>0.0</td>\n",
              "      <td>0.0</td>\n",
              "      <td>0.0</td>\n",
              "      <td>1.0</td>\n",
              "      <td>0.0</td>\n",
              "      <td>0.0</td>\n",
              "      <td>0.0</td>\n",
              "      <td>1.0</td>\n",
              "    </tr>\n",
              "    <tr>\n",
              "      <th>15</th>\n",
              "      <td>0.05</td>\n",
              "      <td>0.00</td>\n",
              "      <td>0.20</td>\n",
              "      <td>0.05</td>\n",
              "      <td>0.00</td>\n",
              "      <td>0.00</td>\n",
              "      <td>0.00</td>\n",
              "      <td>0.05</td>\n",
              "      <td>0.15</td>\n",
              "      <td>0.05</td>\n",
              "      <td>...</td>\n",
              "      <td>1.0</td>\n",
              "      <td>0.0</td>\n",
              "      <td>0.0</td>\n",
              "      <td>0.0</td>\n",
              "      <td>0.0</td>\n",
              "      <td>1.0</td>\n",
              "      <td>0.0</td>\n",
              "      <td>0.0</td>\n",
              "      <td>1.0</td>\n",
              "      <td>0.0</td>\n",
              "    </tr>\n",
              "    <tr>\n",
              "      <th>924</th>\n",
              "      <td>0.30</td>\n",
              "      <td>0.05</td>\n",
              "      <td>0.15</td>\n",
              "      <td>0.10</td>\n",
              "      <td>0.05</td>\n",
              "      <td>0.15</td>\n",
              "      <td>0.00</td>\n",
              "      <td>0.00</td>\n",
              "      <td>0.10</td>\n",
              "      <td>0.00</td>\n",
              "      <td>...</td>\n",
              "      <td>0.0</td>\n",
              "      <td>0.0</td>\n",
              "      <td>1.0</td>\n",
              "      <td>0.0</td>\n",
              "      <td>0.0</td>\n",
              "      <td>0.0</td>\n",
              "      <td>0.0</td>\n",
              "      <td>0.0</td>\n",
              "      <td>1.0</td>\n",
              "      <td>0.0</td>\n",
              "    </tr>\n",
              "    <tr>\n",
              "      <th>...</th>\n",
              "      <td>...</td>\n",
              "      <td>...</td>\n",
              "      <td>...</td>\n",
              "      <td>...</td>\n",
              "      <td>...</td>\n",
              "      <td>...</td>\n",
              "      <td>...</td>\n",
              "      <td>...</td>\n",
              "      <td>...</td>\n",
              "      <td>...</td>\n",
              "      <td>...</td>\n",
              "      <td>...</td>\n",
              "      <td>...</td>\n",
              "      <td>...</td>\n",
              "      <td>...</td>\n",
              "      <td>...</td>\n",
              "      <td>...</td>\n",
              "      <td>...</td>\n",
              "      <td>...</td>\n",
              "      <td>...</td>\n",
              "      <td>...</td>\n",
              "    </tr>\n",
              "    <tr>\n",
              "      <th>594</th>\n",
              "      <td>0.35</td>\n",
              "      <td>0.00</td>\n",
              "      <td>0.05</td>\n",
              "      <td>0.10</td>\n",
              "      <td>0.00</td>\n",
              "      <td>0.00</td>\n",
              "      <td>0.00</td>\n",
              "      <td>0.00</td>\n",
              "      <td>0.10</td>\n",
              "      <td>0.00</td>\n",
              "      <td>...</td>\n",
              "      <td>0.0</td>\n",
              "      <td>0.0</td>\n",
              "      <td>0.0</td>\n",
              "      <td>0.0</td>\n",
              "      <td>1.0</td>\n",
              "      <td>0.0</td>\n",
              "      <td>1.0</td>\n",
              "      <td>0.0</td>\n",
              "      <td>0.0</td>\n",
              "      <td>0.0</td>\n",
              "    </tr>\n",
              "    <tr>\n",
              "      <th>587</th>\n",
              "      <td>0.00</td>\n",
              "      <td>0.05</td>\n",
              "      <td>0.05</td>\n",
              "      <td>0.00</td>\n",
              "      <td>0.05</td>\n",
              "      <td>0.15</td>\n",
              "      <td>0.05</td>\n",
              "      <td>0.15</td>\n",
              "      <td>0.05</td>\n",
              "      <td>0.05</td>\n",
              "      <td>...</td>\n",
              "      <td>0.0</td>\n",
              "      <td>0.0</td>\n",
              "      <td>0.0</td>\n",
              "      <td>0.0</td>\n",
              "      <td>0.0</td>\n",
              "      <td>1.0</td>\n",
              "      <td>0.0</td>\n",
              "      <td>0.0</td>\n",
              "      <td>1.0</td>\n",
              "      <td>0.0</td>\n",
              "    </tr>\n",
              "    <tr>\n",
              "      <th>124</th>\n",
              "      <td>0.15</td>\n",
              "      <td>0.10</td>\n",
              "      <td>0.10</td>\n",
              "      <td>0.05</td>\n",
              "      <td>0.10</td>\n",
              "      <td>0.05</td>\n",
              "      <td>0.00</td>\n",
              "      <td>0.05</td>\n",
              "      <td>0.00</td>\n",
              "      <td>0.00</td>\n",
              "      <td>...</td>\n",
              "      <td>0.0</td>\n",
              "      <td>1.0</td>\n",
              "      <td>0.0</td>\n",
              "      <td>1.0</td>\n",
              "      <td>0.0</td>\n",
              "      <td>0.0</td>\n",
              "      <td>0.0</td>\n",
              "      <td>1.0</td>\n",
              "      <td>0.0</td>\n",
              "      <td>0.0</td>\n",
              "    </tr>\n",
              "    <tr>\n",
              "      <th>292</th>\n",
              "      <td>0.15</td>\n",
              "      <td>0.05</td>\n",
              "      <td>0.05</td>\n",
              "      <td>0.10</td>\n",
              "      <td>0.05</td>\n",
              "      <td>0.00</td>\n",
              "      <td>0.00</td>\n",
              "      <td>0.05</td>\n",
              "      <td>0.05</td>\n",
              "      <td>0.05</td>\n",
              "      <td>...</td>\n",
              "      <td>1.0</td>\n",
              "      <td>0.0</td>\n",
              "      <td>0.0</td>\n",
              "      <td>1.0</td>\n",
              "      <td>0.0</td>\n",
              "      <td>0.0</td>\n",
              "      <td>0.0</td>\n",
              "      <td>0.0</td>\n",
              "      <td>0.0</td>\n",
              "      <td>1.0</td>\n",
              "    </tr>\n",
              "    <tr>\n",
              "      <th>856</th>\n",
              "      <td>0.00</td>\n",
              "      <td>0.05</td>\n",
              "      <td>0.05</td>\n",
              "      <td>0.10</td>\n",
              "      <td>0.05</td>\n",
              "      <td>0.00</td>\n",
              "      <td>0.00</td>\n",
              "      <td>0.00</td>\n",
              "      <td>0.05</td>\n",
              "      <td>0.00</td>\n",
              "      <td>...</td>\n",
              "      <td>1.0</td>\n",
              "      <td>0.0</td>\n",
              "      <td>0.0</td>\n",
              "      <td>0.0</td>\n",
              "      <td>1.0</td>\n",
              "      <td>0.0</td>\n",
              "      <td>0.0</td>\n",
              "      <td>0.0</td>\n",
              "      <td>0.0</td>\n",
              "      <td>1.0</td>\n",
              "    </tr>\n",
              "  </tbody>\n",
              "</table>\n",
              "<p>693 rows × 101 columns</p>\n",
              "</div>\n",
              "      <button class=\"colab-df-convert\" onclick=\"convertToInteractive('df-83c2e444-c0fa-4741-bdac-0e704a622124')\"\n",
              "              title=\"Convert this dataframe to an interactive table.\"\n",
              "              style=\"display:none;\">\n",
              "        \n",
              "  <svg xmlns=\"http://www.w3.org/2000/svg\" height=\"24px\"viewBox=\"0 0 24 24\"\n",
              "       width=\"24px\">\n",
              "    <path d=\"M0 0h24v24H0V0z\" fill=\"none\"/>\n",
              "    <path d=\"M18.56 5.44l.94 2.06.94-2.06 2.06-.94-2.06-.94-.94-2.06-.94 2.06-2.06.94zm-11 1L8.5 8.5l.94-2.06 2.06-.94-2.06-.94L8.5 2.5l-.94 2.06-2.06.94zm10 10l.94 2.06.94-2.06 2.06-.94-2.06-.94-.94-2.06-.94 2.06-2.06.94z\"/><path d=\"M17.41 7.96l-1.37-1.37c-.4-.4-.92-.59-1.43-.59-.52 0-1.04.2-1.43.59L10.3 9.45l-7.72 7.72c-.78.78-.78 2.05 0 2.83L4 21.41c.39.39.9.59 1.41.59.51 0 1.02-.2 1.41-.59l7.78-7.78 2.81-2.81c.8-.78.8-2.07 0-2.86zM5.41 20L4 18.59l7.72-7.72 1.47 1.35L5.41 20z\"/>\n",
              "  </svg>\n",
              "      </button>\n",
              "      \n",
              "  <style>\n",
              "    .colab-df-container {\n",
              "      display:flex;\n",
              "      flex-wrap:wrap;\n",
              "      gap: 12px;\n",
              "    }\n",
              "\n",
              "    .colab-df-convert {\n",
              "      background-color: #E8F0FE;\n",
              "      border: none;\n",
              "      border-radius: 50%;\n",
              "      cursor: pointer;\n",
              "      display: none;\n",
              "      fill: #1967D2;\n",
              "      height: 32px;\n",
              "      padding: 0 0 0 0;\n",
              "      width: 32px;\n",
              "    }\n",
              "\n",
              "    .colab-df-convert:hover {\n",
              "      background-color: #E2EBFA;\n",
              "      box-shadow: 0px 1px 2px rgba(60, 64, 67, 0.3), 0px 1px 3px 1px rgba(60, 64, 67, 0.15);\n",
              "      fill: #174EA6;\n",
              "    }\n",
              "\n",
              "    [theme=dark] .colab-df-convert {\n",
              "      background-color: #3B4455;\n",
              "      fill: #D2E3FC;\n",
              "    }\n",
              "\n",
              "    [theme=dark] .colab-df-convert:hover {\n",
              "      background-color: #434B5C;\n",
              "      box-shadow: 0px 1px 3px 1px rgba(0, 0, 0, 0.15);\n",
              "      filter: drop-shadow(0px 1px 2px rgba(0, 0, 0, 0.3));\n",
              "      fill: #FFFFFF;\n",
              "    }\n",
              "  </style>\n",
              "\n",
              "      <script>\n",
              "        const buttonEl =\n",
              "          document.querySelector('#df-83c2e444-c0fa-4741-bdac-0e704a622124 button.colab-df-convert');\n",
              "        buttonEl.style.display =\n",
              "          google.colab.kernel.accessAllowed ? 'block' : 'none';\n",
              "\n",
              "        async function convertToInteractive(key) {\n",
              "          const element = document.querySelector('#df-83c2e444-c0fa-4741-bdac-0e704a622124');\n",
              "          const dataTable =\n",
              "            await google.colab.kernel.invokeFunction('convertToInteractive',\n",
              "                                                     [key], {});\n",
              "          if (!dataTable) return;\n",
              "\n",
              "          const docLinkHtml = 'Like what you see? Visit the ' +\n",
              "            '<a target=\"_blank\" href=https://colab.research.google.com/notebooks/data_table.ipynb>data table notebook</a>'\n",
              "            + ' to learn more about interactive tables.';\n",
              "          element.innerHTML = '';\n",
              "          dataTable['output_type'] = 'display_data';\n",
              "          await google.colab.output.renderOutput(dataTable, element);\n",
              "          const docLink = document.createElement('div');\n",
              "          docLink.innerHTML = docLinkHtml;\n",
              "          element.appendChild(docLink);\n",
              "        }\n",
              "      </script>\n",
              "    </div>\n",
              "  </div>\n",
              "  "
            ]
          },
          "metadata": {},
          "execution_count": 75
        }
      ]
    },
    {
      "cell_type": "code",
      "execution_count": null,
      "metadata": {
        "colab": {
          "base_uri": "https://localhost:8080/"
        },
        "id": "Cmad2K8KUvnH",
        "outputId": "02ae4281-b350-47b6-dc2e-771c1efc3f02"
      },
      "outputs": [
        {
          "output_type": "execute_result",
          "data": {
            "text/plain": [
              "SVC()"
            ]
          },
          "metadata": {},
          "execution_count": 36
        }
      ],
      "source": [
        "from sklearn.svm import SVC\n",
        "svc_model = SVC()\n",
        "svc_model.fit(X_train, y_train)"
      ]
    },
    {
      "cell_type": "code",
      "execution_count": null,
      "metadata": {
        "id": "hsgvf8SSUz5u"
      },
      "outputs": [],
      "source": [
        "from sklearn import svm\n",
        "\n",
        "clf = svm.SVC(kernel='linear')"
      ]
    },
    {
      "cell_type": "code",
      "execution_count": null,
      "metadata": {
        "colab": {
          "base_uri": "https://localhost:8080/"
        },
        "id": "fWq1yzcNU9Ou",
        "outputId": "0191a12a-f004-405b-d80c-65a21df8adb8"
      },
      "outputs": [
        {
          "output_type": "execute_result",
          "data": {
            "text/plain": [
              "SVC(kernel='linear')"
            ]
          },
          "metadata": {},
          "execution_count": 38
        }
      ],
      "source": [
        "clf.fit(X_train, y_train)"
      ]
    },
    {
      "cell_type": "code",
      "execution_count": null,
      "metadata": {
        "id": "J_IARzGIU-M-"
      },
      "outputs": [],
      "source": [
        "y_pred = clf.predict(X_test)"
      ]
    },
    {
      "cell_type": "code",
      "execution_count": null,
      "metadata": {
        "colab": {
          "base_uri": "https://localhost:8080/"
        },
        "id": "bMZaV2nyVAIe",
        "outputId": "8b7cd97c-d6cc-4d15-f082-eb26a8a9af03"
      },
      "outputs": [
        {
          "output_type": "execute_result",
          "data": {
            "text/plain": [
              "0.5757575757575758"
            ]
          },
          "metadata": {},
          "execution_count": 40
        }
      ],
      "source": [
        "clf.score(X_test, y_test)"
      ]
    },
    {
      "cell_type": "code",
      "execution_count": null,
      "metadata": {
        "id": "IVGUvnmLVBSG"
      },
      "outputs": [],
      "source": [
        "from xgboost import XGBRegressor"
      ]
    },
    {
      "cell_type": "code",
      "execution_count": null,
      "metadata": {
        "id": "YTLyruyAVV5t"
      },
      "outputs": [],
      "source": [
        "model = XGBRegressor(random_state=42, n_jobs=-1, n_estimators=20, max_depth=4)"
      ]
    },
    {
      "cell_type": "code",
      "execution_count": null,
      "metadata": {
        "colab": {
          "base_uri": "https://localhost:8080/"
        },
        "id": "wZBRK_X5VXKe",
        "outputId": "cc3a7d0f-215b-4b80-959b-937d0bcfb0e6"
      },
      "outputs": [
        {
          "output_type": "stream",
          "name": "stdout",
          "text": [
            "[16:04:44] WARNING: /workspace/src/objective/regression_obj.cu:152: reg:linear is now deprecated in favor of reg:squarederror.\n"
          ]
        },
        {
          "output_type": "execute_result",
          "data": {
            "text/plain": [
              "XGBRegressor(max_depth=4, n_estimators=20, n_jobs=-1, random_state=42)"
            ]
          },
          "metadata": {},
          "execution_count": 43
        }
      ],
      "source": [
        "model.fit(X_train,y_train)"
      ]
    },
    {
      "cell_type": "code",
      "execution_count": null,
      "metadata": {
        "id": "-kPbA62CVYl2"
      },
      "outputs": [],
      "source": [
        "preds = model.predict(X_test)"
      ]
    },
    {
      "cell_type": "code",
      "execution_count": null,
      "metadata": {
        "id": "0U5QDU3GVbO-"
      },
      "outputs": [],
      "source": [
        "from sklearn.metrics import mean_squared_error\n",
        "\n",
        "def rmse(a, b):\n",
        "    return mean_squared_error(a, b, squared=False)"
      ]
    },
    {
      "cell_type": "code",
      "execution_count": null,
      "metadata": {
        "colab": {
          "base_uri": "https://localhost:8080/"
        },
        "id": "-GDQpw_xV4sl",
        "outputId": "d307b7ab-7fb0-4dbc-c476-72220fa08fe4"
      },
      "outputs": [
        {
          "output_type": "execute_result",
          "data": {
            "text/plain": [
              "0.4790100584143213"
            ]
          },
          "metadata": {},
          "execution_count": 46
        }
      ],
      "source": [
        "rmse(preds,y_test)"
      ]
    },
    {
      "cell_type": "code",
      "execution_count": null,
      "metadata": {
        "id": "fcb_NRZ1V55d"
      },
      "outputs": [],
      "source": [
        "\n",
        "from sklearn.tree import DecisionTreeClassifier\n",
        "from sklearn.metrics import accuracy_score, confusion_matrix"
      ]
    },
    {
      "cell_type": "code",
      "execution_count": null,
      "metadata": {
        "id": "EwgS6iVIu_Z2"
      },
      "outputs": [],
      "source": [
        "#model = DecisionTreeClassifier(random_state=42)\n",
        "#model = DecisionTreeClassifier(max_depth=3, random_state=42)\n",
        "#model = DecisionTreeClassifier(max_depth=7, random_state=42)\n",
        "model = DecisionTreeClassifier(max_leaf_nodes=256,max_depth=7, random_state=42)"
      ]
    },
    {
      "cell_type": "code",
      "execution_count": null,
      "metadata": {
        "colab": {
          "base_uri": "https://localhost:8080/"
        },
        "id": "YawD0yfnu_yu",
        "outputId": "f585c01a-2c78-44c2-d3e8-6ed81cce56ea"
      },
      "outputs": [
        {
          "output_type": "execute_result",
          "data": {
            "text/plain": [
              "DecisionTreeClassifier(max_depth=7, max_leaf_nodes=256, random_state=42)"
            ]
          },
          "metadata": {},
          "execution_count": 49
        }
      ],
      "source": [
        "model.fit(X_train, y_train)\n"
      ]
    },
    {
      "cell_type": "code",
      "execution_count": null,
      "metadata": {
        "id": "vB_zT7lhvDI2"
      },
      "outputs": [],
      "source": [
        "train_preds = model.predict(X_test)"
      ]
    },
    {
      "cell_type": "code",
      "execution_count": null,
      "metadata": {
        "colab": {
          "base_uri": "https://localhost:8080/"
        },
        "id": "R85ITVJAvI_-",
        "outputId": "388d26c0-a54d-409d-e4cd-f7199d2740c3"
      },
      "outputs": [
        {
          "output_type": "execute_result",
          "data": {
            "text/plain": [
              "0.5791245791245792"
            ]
          },
          "metadata": {},
          "execution_count": 51
        }
      ],
      "source": [
        "accuracy_score(y_test, train_preds)"
      ]
    },
    {
      "cell_type": "code",
      "execution_count": null,
      "metadata": {
        "id": "NfOB4YgMvRvu"
      },
      "outputs": [],
      "source": [
        "from sklearn.ensemble import RandomForestClassifier"
      ]
    },
    {
      "cell_type": "code",
      "execution_count": null,
      "metadata": {
        "id": "sVs4a4T2-NK1"
      },
      "outputs": [],
      "source": [
        "model = RandomForestClassifier(n_jobs=-1, random_state=42)"
      ]
    },
    {
      "cell_type": "code",
      "execution_count": null,
      "metadata": {
        "colab": {
          "base_uri": "https://localhost:8080/"
        },
        "id": "-spUU24P-X67",
        "outputId": "dc48746f-d3d9-4194-b617-6a5a351c7887"
      },
      "outputs": [
        {
          "output_type": "execute_result",
          "data": {
            "text/plain": [
              "RandomForestClassifier(n_jobs=-1, random_state=42)"
            ]
          },
          "metadata": {},
          "execution_count": 54
        }
      ],
      "source": [
        "\n",
        "model.fit(X_train, y_train)"
      ]
    },
    {
      "cell_type": "code",
      "execution_count": null,
      "metadata": {
        "id": "trZX5lZ8-bIX"
      },
      "outputs": [],
      "source": [
        "train_preds = model.predict(X_test)"
      ]
    },
    {
      "cell_type": "code",
      "execution_count": null,
      "metadata": {
        "colab": {
          "base_uri": "https://localhost:8080/"
        },
        "id": "79le7paY-efO",
        "outputId": "3a8afe84-e7e4-43ad-fd79-a8c213b2ab9a"
      },
      "outputs": [
        {
          "output_type": "execute_result",
          "data": {
            "text/plain": [
              "0.6262626262626263"
            ]
          },
          "metadata": {},
          "execution_count": 56
        }
      ],
      "source": [
        "accuracy_score(y_test, train_preds)"
      ]
    },
    {
      "cell_type": "markdown",
      "metadata": {
        "id": "_CMsKEuMavR5"
      },
      "source": [
        "## PCA"
      ]
    },
    {
      "cell_type": "code",
      "execution_count": null,
      "metadata": {
        "id": "VAaYVAR_-f47"
      },
      "outputs": [],
      "source": [
        "from sklearn.decomposition import PCA"
      ]
    },
    {
      "cell_type": "code",
      "execution_count": null,
      "metadata": {
        "id": "L8iYHmFQVGSV"
      },
      "outputs": [],
      "source": [
        "pca = PCA(n_components = 40)\n",
        "#pca1 = PCA(n_components = 20)"
      ]
    },
    {
      "cell_type": "code",
      "execution_count": null,
      "metadata": {
        "id": "HIwfoGtUZtsy"
      },
      "outputs": [],
      "source": [
        "pca = pca.fit(X_train)\n",
        "#pca1 = pca.fit(X_test)"
      ]
    },
    {
      "cell_type": "code",
      "execution_count": null,
      "metadata": {
        "id": "VJCGDF8YaLbt"
      },
      "outputs": [],
      "source": [
        "#pca_data = pca.transform(X_train)\n",
        "pca_data = pca.transform(X_test)"
      ]
    },
    {
      "cell_type": "code",
      "execution_count": null,
      "metadata": {
        "colab": {
          "base_uri": "https://localhost:8080/"
        },
        "id": "Rv9Q38DJZ6gN",
        "outputId": "267853a1-7d41-4dee-bacb-e87bc2697eb5"
      },
      "outputs": [
        {
          "output_type": "execute_result",
          "data": {
            "text/plain": [
              "SVC(kernel='poly')"
            ]
          },
          "metadata": {},
          "execution_count": 93
        }
      ],
      "source": [
        "from sklearn import svm\n",
        "\n",
        "clf = svm.SVC(kernel='poly')\n",
        "clf.fit(X_train, y_train)\n",
        "#model.fit(pca_data, y_train)"
      ]
    },
    {
      "cell_type": "code",
      "source": [
        "accuracy_score(y_test, train_preds)"
      ],
      "metadata": {
        "id": "1KciwIbyDOTt"
      },
      "execution_count": null,
      "outputs": []
    },
    {
      "cell_type": "markdown",
      "source": [
        "#Utility kernel"
      ],
      "metadata": {
        "id": "1iRnv0yEQ0De"
      }
    },
    {
      "cell_type": "code",
      "source": [
        "import numpy as np, pandas as pd\n",
        "from sklearn.model_selection import train_test_split\n",
        "from sklearn import svm\n",
        "import matplotlib.pyplot as plt\n",
        "from sklearn.decomposition import PCA\n",
        "import os,math,pickle\n",
        "from sklearn import metrics\n",
        "from sklearn.svm import SVC\n",
        "from sklearn.model_selection import cross_validate,cross_val_predict,StratifiedKFold\n",
        "from sklearn.model_selection import StratifiedKFold\n",
        "from sklearn.metrics import confusion_matrix,roc_auc_score\n",
        "from scipy.stats import pearsonr\n",
        "from sklearn.model_selection import train_test_split\n",
        "from sklearn.naive_bayes import GaussianNB\n",
        "from sklearn import tree\n",
        "from sklearn.ensemble import RandomForestClassifier"
      ],
      "metadata": {
        "id": "KovhBzGVI02S"
      },
      "execution_count": null,
      "outputs": []
    },
    {
      "cell_type": "code",
      "source": [
        "c = 100\n",
        "K_0 = 1\n",
        "K_1 = 1\n",
        "Alpha = 4"
      ],
      "metadata": {
        "id": "Eevp_eMLQ7tb"
      },
      "execution_count": null,
      "outputs": []
    },
    {
      "cell_type": "code",
      "source": [
        "NumComponents = 0.95"
      ],
      "metadata": {
        "id": "_abvdGyDQ9l3"
      },
      "execution_count": null,
      "outputs": []
    },
    {
      "cell_type": "code",
      "source": [
        "def utility_kernel(X, Y):\n",
        "    k_0 =K_0\n",
        "    k_1 = K_1\n",
        "    alpha = Alpha\n",
        "    kernel_value = k_0+np.multiply(k_1,np.power((np.dot(X, Y.T)),alpha))\n",
        "    return kernel_value"
      ],
      "metadata": {
        "id": "qoutGgN7Q_fI"
      },
      "execution_count": null,
      "outputs": []
    },
    {
      "cell_type": "code",
      "source": [
        "def my_pca(data,numComponents):\n",
        "\t#Applying PCA with 95% explained_variance_ratio_\n",
        "\tplt.style.use('ggplot')\n",
        "\tpca = PCA(n_components=numComponents, random_state=42)\n",
        "\tpca.fit(data) \n",
        "\tdata = pca.transform(data)\n",
        "\tplt.plot(np.cumsum(pca.explained_variance_ratio_))\n",
        "\tplt.xlabel('number of components')\n",
        "\tplt.ylabel('Explained variance')\n",
        "\tplt.savefig(os.path.join(path,'elbow_plot_multimodal.png'),dpi=100)\n",
        "\treturn data"
      ],
      "metadata": {
        "id": "xnSMowRpREYB"
      },
      "execution_count": null,
      "outputs": []
    },
    {
      "cell_type": "code",
      "source": [
        "def ncr(n, r):\n",
        "    r = min(r, n-r)\n",
        "    numer = reduce(op.mul, range(n, n-r, -1), 1)\n",
        "    denom = reduce(op.mul, range(1, r+1), 1)\n",
        "    return numer // denom  # or / in Python 2\n"
      ],
      "metadata": {
        "id": "t-lNbCqQRGc8"
      },
      "execution_count": null,
      "outputs": []
    },
    {
      "cell_type": "code",
      "source": [
        "model = SVC(C=c,kernel=utility_kernel)"
      ],
      "metadata": {
        "id": "IeFF6X14RJME"
      },
      "execution_count": null,
      "outputs": []
    },
    {
      "cell_type": "code",
      "source": [
        "model.fit(X_train, y_train)"
      ],
      "metadata": {
        "colab": {
          "base_uri": "https://localhost:8080/"
        },
        "id": "_4WxhhwXRoCg",
        "outputId": "5bd69507-65a3-476b-ab73-111b4aebdcad"
      },
      "execution_count": null,
      "outputs": [
        {
          "output_type": "execute_result",
          "data": {
            "text/plain": [
              "SVC(C=100, kernel=<function utility_kernel at 0x7fd16a229290>)"
            ]
          },
          "metadata": {},
          "execution_count": 144
        }
      ]
    },
    {
      "cell_type": "code",
      "source": [
        "train_preds = model.predict(X_test)"
      ],
      "metadata": {
        "id": "ivVMye7bRrXI"
      },
      "execution_count": null,
      "outputs": []
    },
    {
      "cell_type": "code",
      "source": [
        "accuracy_score(y_test, train_preds)"
      ],
      "metadata": {
        "colab": {
          "base_uri": "https://localhost:8080/"
        },
        "id": "uTjM55ojRuIi",
        "outputId": "9fa5b9db-62f2-40aa-878a-a72f42a7e011"
      },
      "execution_count": null,
      "outputs": [
        {
          "output_type": "execute_result",
          "data": {
            "text/plain": [
              "0.5858585858585859"
            ]
          },
          "metadata": {},
          "execution_count": 146
        }
      ]
    },
    {
      "cell_type": "code",
      "source": [
        "pca = pca.fit(X_train)\n",
        "pca_data = pca.transform(X_test)"
      ],
      "metadata": {
        "id": "Xu70CPXXRvtT"
      },
      "execution_count": null,
      "outputs": []
    },
    {
      "cell_type": "code",
      "source": [
        "train_preds = model.predict(X_test)"
      ],
      "metadata": {
        "id": "KAr0KyF3UCe1"
      },
      "execution_count": null,
      "outputs": []
    },
    {
      "cell_type": "code",
      "source": [
        "accuracy_score(y_test, train_preds)"
      ],
      "metadata": {
        "colab": {
          "base_uri": "https://localhost:8080/"
        },
        "id": "WshLpNtmT60o",
        "outputId": "3be39d72-1699-4229-c695-2754d808261d"
      },
      "execution_count": null,
      "outputs": [
        {
          "output_type": "execute_result",
          "data": {
            "text/plain": [
              "0.5858585858585859"
            ]
          },
          "metadata": {},
          "execution_count": 152
        }
      ]
    },
    {
      "cell_type": "code",
      "source": [],
      "metadata": {
        "id": "YaOoX-fjVCgA"
      },
      "execution_count": null,
      "outputs": []
    }
  ],
  "metadata": {
    "colab": {
      "provenance": []
    },
    "kernelspec": {
      "display_name": "Python 3",
      "name": "python3"
    },
    "language_info": {
      "name": "python"
    }
  },
  "nbformat": 4,
  "nbformat_minor": 0
}